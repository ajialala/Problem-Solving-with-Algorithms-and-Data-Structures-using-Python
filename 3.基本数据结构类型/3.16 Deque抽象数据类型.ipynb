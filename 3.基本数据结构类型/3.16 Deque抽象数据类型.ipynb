{
 "cells": [
  {
   "cell_type": "markdown",
   "metadata": {},
   "source": [
    "deque 抽象数据类型由以下结构和操作定义。如前文所述，双端队列由一系列有序的元素组织而成，元素可以从队首或队尾插入、删除。下面是双端队列的一些操作：\n",
    "- Deque() 创建一个空的新 deque。它不需要参数，并返回空的 deque。\n",
    "- addFront(item) 将一个新项添加到 deque 的首部。它需要 item 参数 并不返回任何内容。\n",
    "- addRear(item) 将一个新项添加到 deque 的尾部。它需要 item 参数并不返回任何内容。\n",
    "- removeFront() 从 deque 中删除首项。它不需要参数并返回 item。deque 被修改。\n",
    "- removeRear() 从 deque 中删除尾项。它不需要参数并返回 item。deque 被修改。\n",
    "- isEmpty() 测试 deque 是否为空。它不需要参数，并返回布尔值。\n",
    "- size() 返回 deque 中的项数。它不需要参数，并返回一个整数。\n",
    "\n",
    "例如，我们假设 d 是已经创建并且当前为空的 deque，则表1展示了一系列 deque 操作的结果。注意靠近队首的元素在右侧。由于双端队列两端均可插入、删除,在添加和移除数据项时有时容易造成混乱，所以时刻关注队首、队尾的状态是非常重要的。"
   ]
  },
  {
   "cell_type": "markdown",
   "metadata": {},
   "source": [
    "<center>表1. 双端队列操作</center>\n",
    "\n",
    "双端队列操作|双端队列内容|返回值\n",
    "-|-|-\n",
    "d=Deque() |[] |Deque 对象\n",
    "d.isEmpty() |[] |True\n",
    "d.addRear(4) |[4] \n",
    "d.addRear(‘dog’) |[‘dog’,4] \n",
    "d.addFront(‘cat’) |[‘dog’,4, ‘cat’]\n",
    "d.addFront(True) |[‘dog’,4, ‘cat’,True] \n",
    "d.size() |[‘dog’,4, ‘cat’,True]| 4\n",
    "d.isEmpty() |[‘dog’,4, ‘cat’,True]| False\n",
    "d.addRear(8.4)| [8.4,‘dog’,4, ‘cat’,True] \n",
    "d.removeRear() |[‘dog’,4, ‘cat’,True] |8.4\n",
    "d.removeFront() |[‘dog’,4, ‘cat’] |True"
   ]
  }
 ],
 "metadata": {
  "kernelspec": {
   "display_name": "Python 3",
   "language": "python",
   "name": "python3"
  },
  "language_info": {
   "codemirror_mode": {
    "name": "ipython",
    "version": 3
   },
   "file_extension": ".py",
   "mimetype": "text/x-python",
   "name": "python",
   "nbconvert_exporter": "python",
   "pygments_lexer": "ipython3",
   "version": "3.6.5"
  }
 },
 "nbformat": 4,
 "nbformat_minor": 2
}
