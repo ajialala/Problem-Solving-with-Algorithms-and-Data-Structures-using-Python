{
 "cells": [
  {
   "cell_type": "markdown",
   "metadata": {},
   "source": [
    "上节的简单括号检查程序可以轻松的扩展处理这些新类型的符号。每个左括号被简单的压入栈中，等待匹配的右括号出现。当出现右括号时，唯一的区别是我们必须检查确保它正确匹配栈顶部左括号的类型。如果两个符号不匹配，则字符串不匹配。如果整个字符串都被处理完并且没有什么留在栈中，则字符串匹配。"
   ]
  },
  {
   "cell_type": "code",
   "execution_count": 1,
   "metadata": {},
   "outputs": [],
   "source": [
    "class Stack:\n",
    "    def __init__(self):\n",
    "         self.items = []\n",
    "\n",
    "    def isEmpty(self):\n",
    "         return self.items == []\n",
    "\n",
    "    def push(self, item):\n",
    "         self.items.append(item)\n",
    "\n",
    "    def pop(self):\n",
    "         return self.items.pop()\n",
    "\n",
    "    def peek(self):\n",
    "         return self.items[len(self.items)-1]\n",
    "\n",
    "    def size(self):\n",
    "         return len(self.items)"
   ]
  },
  {
   "cell_type": "code",
   "execution_count": 2,
   "metadata": {},
   "outputs": [
    {
     "name": "stdout",
     "output_type": "stream",
     "text": [
      "True\n",
      "False\n"
     ]
    }
   ],
   "source": [
    "def parChecker(symbolString):\n",
    "    s = Stack()\n",
    "    balanced = True\n",
    "    index = 0\n",
    "    while index < len(symbolString) and balanced:\n",
    "        symbol = symbolString[index]\n",
    "        if symbol in \"([{\":\n",
    "            s.push(symbol)\n",
    "        else:\n",
    "            if s.isEmpty():\n",
    "                balanced = False\n",
    "            else:\n",
    "                top = s.pop()\n",
    "                if not matches(top,symbol):\n",
    "                       balanced = False\n",
    "        index = index + 1\n",
    "    if balanced and s.isEmpty():\n",
    "        return True\n",
    "    else:\n",
    "        return False\n",
    "\n",
    "def matches(open,close):\n",
    "    opens = \"([{\"\n",
    "    closers = \")]}\"\n",
    "    return opens.index(open) == closers.index(close)\n",
    "\n",
    "\n",
    "print(parChecker('{{([][])}()}'))\n",
    "print(parChecker('[{()]'))"
   ]
  }
 ],
 "metadata": {
  "kernelspec": {
   "display_name": "Python 3",
   "language": "python",
   "name": "python3"
  },
  "language_info": {
   "codemirror_mode": {
    "name": "ipython",
    "version": 3
   },
   "file_extension": ".py",
   "mimetype": "text/x-python",
   "name": "python",
   "nbconvert_exporter": "python",
   "pygments_lexer": "ipython3",
   "version": "3.6.5"
  }
 },
 "nbformat": 4,
 "nbformat_minor": 2
}
