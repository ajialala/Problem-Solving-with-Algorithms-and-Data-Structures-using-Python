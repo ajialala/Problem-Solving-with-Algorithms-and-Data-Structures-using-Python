{
 "cells": [
  {
   "cell_type": "markdown",
   "metadata": {},
   "source": [
    "为了实现有序列表，我们必须记住，元素的相对位置取决于某种已经定义了的属性。前文给出的整数有序列表(54,17,26,31,77,93)可以表示为一个如图 1. 所示的链结构。再次看到，节点和链表结构是示意元素相对位置的理想工具。\n",
    "![图1. 有序的链表](pic/3.23.1.png)\n",
    "<center>图1. 有序的链表</center>"
   ]
  },
  {
   "cell_type": "markdown",
   "metadata": {},
   "source": [
    "为了实现 OrderedList 类，我们将使用在无序列表中使用过的方法。再一次，一个指向 None 的头指针将表示一个空的列表。"
   ]
  },
  {
   "cell_type": "code",
   "execution_count": 1,
   "metadata": {},
   "outputs": [],
   "source": [
    "class OrderedList:\n",
    "    def __init__(self):\n",
    "        self.head = None "
   ]
  },
  {
   "cell_type": "markdown",
   "metadata": {},
   "source": [
    "当我们考虑有序列表的操作时，我们应该注意，isEmpty 和size 方法可以与无序列表一样实现，因为它们只处理链表中的节点数量，而不考虑实际项值。同样，remove 方法将正常工作，因为我们仍然需要找到该项，然后删除它。剩下的两个方法，search 和 add，将需要一些修改。\n",
    "\n",
    "为了在一个无序列表中搜索某个节点，我们需要遍历节点直到找到它或者遍历完整个列表(None)。事实证明，当要搜索的元素在列表中时，可以在有序列表中使用与无序列表中相同的方法，但当我们要找的元素不在列表中时，我们可以利用有序列表的顺序来尽快结束搜索。\n",
    "\n",
    "例如，图 2. 显示了在有序链表中搜索值 45 的过程：我们从列表的头开始遍历，首先我们和 17进行比较，因为 17 不是我们要找的项，我们移动到下一个节点。此时，26 依然不是我们要找的，所以我们接着移动到 31，再到 54。现在，有序列表将和无序列表有所不同。由于 54 不是我们要找的项，在之前我们会接着移向下一个节点，但现在，由于列表是有序的，我们不必这么做，因为这是没有必要的。一旦当前节点的值大于我们要找的值，我们就可以停止搜索并返回 False，因为这个值不可能在这个链表中了。\n",
    "![图2. ](pic/3.23.2.png)\n",
    "<center>图2. </center>"
   ]
  },
  {
   "cell_type": "markdown",
   "metadata": {},
   "source": [
    "search函数代码显示了完整的搜索方法。通过添加另一个名为 stop，初始化为 False 的布尔变量(第 4行)，我们可以很容易的应用于新的情况。当 stop 的值为 False(不停止)时，我们继续在链表中搜索(第 5 行)；如果发现任何节点包含的数据大于我们正在需找的值，我们将 stop 设 True(9-10行)。剩余的操作和无序表一完全相同。"
   ]
  },
  {
   "cell_type": "code",
   "execution_count": 2,
   "metadata": {},
   "outputs": [],
   "source": [
    "def search(self,item):\n",
    "    current = self.head\n",
    "    found = False\n",
    "    stop = False\n",
    "    while current != None and not found and not stop:\n",
    "        if current.getData() == item:\n",
    "            found = True\n",
    "        else:\n",
    "            if current.getData() > item:\n",
    "                stop = True\n",
    "            else:\n",
    "                current = current.getNext()\n",
    "\n",
    "    return found"
   ]
  },
  {
   "cell_type": "markdown",
   "metadata": {},
   "source": [
    "改动最大的方法是 add。在无序列表中的 add 方法，只需要在原列表头加一个新的节点。这是最简单的方法。不幸的是，这在有序列表中是行不通的。在有序列表中，我们必须将新的节点添加到原列表某个特定的位置。\n",
    "\n",
    "假设我们的有序列表中已有:17，26，54，77 和 93，我们想添加值 31，则 add 方法必须在 26和 54 之间添加这个新的节点。图 3 显示了具体做法。正如前面解释的，我们需要遍历链表来寻找添加新节点的位置。遍历时，当我们遍历完了整个列或者当前节点的值大于我们要添加的值时，我们就找到了添加新节点的位置。在我们的例子中，找到了值 54 就停止遍历。\n",
    "![图3. 向有序链表添加元素](pic/3.23.3.png)\n",
    "<center>图3. 向有序链表添加元素</center>"
   ]
  },
  {
   "cell_type": "code",
   "execution_count": 3,
   "metadata": {},
   "outputs": [],
   "source": [
    "def add(self,item):\n",
    "    current = self.head\n",
    "    previous = None\n",
    "    stop = False\n",
    "    while current != None and not stop:\n",
    "        if current.getData() > item:\n",
    "            stop = True\n",
    "        else:\n",
    "            previous = current\n",
    "            current = current.getNext()\n",
    "\n",
    "    temp = Node(item)\n",
    "    if previous == None:\n",
    "        temp.setNext(self.head)\n",
    "        self.head = temp\n",
    "    else:\n",
    "        temp.setNext(current)\n",
    "        previous.setNext(temp)"
   ]
  },
  {
   "cell_type": "markdown",
   "metadata": {},
   "source": [
    "正如我们在使用无序列表时，需要有一个额外的指针，即 previous，因为当前节点不提供对需要修改的节点(前一个节点)的访问方法。代码 10 显示了完整的 add 方法。行 2 -3 设置指针 current 和previous。当 current 依次遍历整个列表时，行 9-10 每次都让 previous 指针指向 current 当前的节点。行 5 的条件只允许 current 移向值比要添加的值大的节点，或者遍历完整个列表再添加。在这两种情况中，我们找到了添加新节点的位置，循环结束。该方法其余的步骤完成了最后的两步过程，如图 3. 所示。当一个新的节点被创建后，唯一剩下的问题是这个节点是应该添加在链表开头还是添加在链表中间。再一次，判断 previous 是否为 None(行 13)可以提供答案。"
   ]
  },
  {
   "cell_type": "markdown",
   "metadata": {},
   "source": [
    "### 链表分析\n",
    "为了分析链表操作的复杂性，我们需要考虑它们是否需要遍历。考虑具有 n 个节点的链表。 isEmpty 方法是 $O(1)$，因为它需要一个步骤来检查头的引用为 None。另一方面，size 将总是需要 n 个步骤，因为不从头到尾地移动没法知道有多少节点在链表中。因此，长度为 $O(n)$。将项添加到无序列表始终是 $O(1)$，因为我们只是将新节点放置在链表的头部。但是，搜索和删除，以及添加有序列表，都需要遍历过程。虽然平均他们可能只需要遍历节点的一半，这些方法都是 $O(n)$，因为在最坏的情况下，都将处理列表中的每个节点。\n",
    "\n",
    "你可能还注意到此实现的性能与早前针对 Python 列表给出的实际性能不同。这表明链表不是 Python 列表的实现方式。 Python 列表的实际实现基于数组的概念。"
   ]
  }
 ],
 "metadata": {
  "kernelspec": {
   "display_name": "Python 3",
   "language": "python",
   "name": "python3"
  },
  "language_info": {
   "codemirror_mode": {
    "name": "ipython",
    "version": 3
   },
   "file_extension": ".py",
   "mimetype": "text/x-python",
   "name": "python",
   "nbconvert_exporter": "python",
   "pygments_lexer": "ipython3",
   "version": "3.6.5"
  }
 },
 "nbformat": 4,
 "nbformat_minor": 2
}
