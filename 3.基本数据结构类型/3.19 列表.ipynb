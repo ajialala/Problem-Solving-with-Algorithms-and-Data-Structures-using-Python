{
 "cells": [
  {
   "cell_type": "markdown",
   "metadata": {},
   "source": [
    "在整个基本数据结构的讨论中，我们使用了 Python 列表来实现抽象数据类型。列表是一个功能强大而简单的收集容器，并为程序员提供了各种各样的操作。然而，并非所有的编程语言都有内置的 list 列表类型。在这些情况下，程序员必须自己来实现列表。列表是一些元素的集合，每个元素拥有一个与其它元素不同的相对位置。更具体地说，我们把这种类型的列表称为一个无序列表。我们可以认为列表有第一项、第二项、第三项......也可以索引到列表的开始(第一项)或列表的最后(最后一项)。为简单起见，我们假设列表不能包含重复项。例如,由整数 54,26,93,17,77,31 组成的集合可能是一个简单的无序列表的考试成绩。注意,我们已经把它们写入了用逗号分隔的值的列表(一种表示结构的常用方法)。当然，Python 会把此列表显示为[ 54,26,93,17,77,31 ]。"
   ]
  }
 ],
 "metadata": {
  "kernelspec": {
   "display_name": "Python 3",
   "language": "python",
   "name": "python3"
  },
  "language_info": {
   "codemirror_mode": {
    "name": "ipython",
    "version": 3
   },
   "file_extension": ".py",
   "mimetype": "text/x-python",
   "name": "python",
   "nbconvert_exporter": "python",
   "pygments_lexer": "ipython3",
   "version": "3.6.5"
  }
 },
 "nbformat": 4,
 "nbformat_minor": 2
}
