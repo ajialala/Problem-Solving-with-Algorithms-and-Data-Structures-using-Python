{
 "cells": [
  {
   "cell_type": "markdown",
   "metadata": {},
   "source": [
    "如上面所描述的，无序列表结构是一个由各个元素组成的集合，在其中的每个元素拥有一个不同于其它元素的相对位置。一些可用的无序列表的方法如下。\n",
    "* list() 创建一个新的空列表。它不需要参数，而返回一个空列表。\n",
    "* add(item) 将新项添加到列表，没有返回值。假设元素不在列表中。\n",
    "* remove(item) 从列表中删除元素。需要一个参数，并会修改列表。此处假设元素在列表中。\n",
    "* search(item) 搜索列表中的元素。需要一个参数，并返回一个布尔值。\n",
    "* isEmpty() 判断列表是否为空。不需要参数，并返回一个布尔值。\n",
    "* size() 返回列表的元素数。不需要参数，并返回一个整数。\n",
    "* append(item) 在列表末端添加一个新的元素。它需要一个参数，没有返回值。假设该项目不在列表中。\n",
    "* index(item) 返回元素在列表中的位置。它需要一个参数，并返回位置索引值。此处假设该元素原本在列表中。\n",
    "* insert(pos，item) 在指定的位置添加一个新元素。它需要两个参数，没有返回值。假设该元素在列表中并不存在，并且列表有足够的长度满足参数提供的索引需要。\n",
    "* pop() 从列表末端移除一个元素并返回它。它不需要参数，返回一个元素。假设列表至少有一个元素。\n",
    "* pop(pos) 从指定的位置移除列表元素并返回它。它需要一个位置参数，并返回一个元素。假设该元素在列表中。"
   ]
  }
 ],
 "metadata": {
  "kernelspec": {
   "display_name": "Python 3",
   "language": "python",
   "name": "python3"
  },
  "language_info": {
   "codemirror_mode": {
    "name": "ipython",
    "version": 3
   },
   "file_extension": ".py",
   "mimetype": "text/x-python",
   "name": "python",
   "nbconvert_exporter": "python",
   "pygments_lexer": "ipython3",
   "version": "3.6.5"
  }
 },
 "nbformat": 4,
 "nbformat_minor": 2
}
