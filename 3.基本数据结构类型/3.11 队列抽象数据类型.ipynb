{
 "cells": [
  {
   "cell_type": "markdown",
   "metadata": {},
   "source": [
    "队列抽象数据类型由以下结构和操作定义。如上所述，队列被构造为在队尾添加项的有序集合，并且从队首移除。队列保持 FIFO 排序属性。 队列操作如下:\n",
    "\n",
    "- Queue() 创建一个空的新队列。 它不需要参数，并返回一个空队列。\n",
    "- enqueue(item) 将新项添加到队尾。 它需要 item 作为参数，并不返回任何内容。\n",
    "- dequeue() 从队首移除项。它不需要参数并返回 item。 队列被修改。\n",
    "- isEmpty() 查看队列是否为空。它不需要参数，并返回布尔值。\n",
    "- size() 返回队列中的项数。它不需要参数，并返回一个整数。\n",
    "\n",
    "作为示例，我们假设 q 是已经创建并且当前为空的队列，则 表1展示了队列操作序列的结果。右边表示队首。 4 是第一个入队的项，因此它 dequeue 返回的第一个项。\n"
   ]
  },
  {
   "cell_type": "markdown",
   "metadata": {},
   "source": [
    "<center>表1. 队列操作示例</center>\n",
    "\n",
    "队列操作|队列内容|返回值\n",
    "-|-|-\n",
    "q=Queue()|[]|Queue 对象\n",
    "q.isEmpty() |[]|True\n",
    "q.enqueue(4) |[4]|\n",
    "q.enqueue(‘dog’) |[‘dog’,4] \n",
    "q.enqueue(True) |[True,‘dog’,4] \n",
    "q.size() |[True,‘dog’,4] |3\n",
    "q.isEmpty() |[True,‘dog’,4] |False\n",
    "q.enqueue(8.4) |[8.4,True,‘dog’,4] \n",
    "q.dequeue() |[8.4,True,‘dog’]| 4\n",
    "q.dequeue() |[8.4,True] |‘dog’\n",
    "q.size() |[8.4,True] |2"
   ]
  }
 ],
 "metadata": {
  "kernelspec": {
   "display_name": "Python 3",
   "language": "python",
   "name": "python3"
  },
  "language_info": {
   "codemirror_mode": {
    "name": "ipython",
    "version": 3
   },
   "file_extension": ".py",
   "mimetype": "text/x-python",
   "name": "python",
   "nbconvert_exporter": "python",
   "pygments_lexer": "ipython3",
   "version": "3.6.5"
  }
 },
 "nbformat": 4,
 "nbformat_minor": 2
}
