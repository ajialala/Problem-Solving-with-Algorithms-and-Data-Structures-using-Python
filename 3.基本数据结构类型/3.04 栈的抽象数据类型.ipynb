{
 "cells": [
  {
   "cell_type": "markdown",
   "metadata": {},
   "source": [
    "栈的抽象数据类型应该由以下结构和操作定义：\n",
    "- Stack() 创建一个空的新栈。 它不需要参数，并返回一个空栈。\n",
    "- push(item)将一个新项添加到栈的顶部。它需要 item 做参数并不返回任何内容。\n",
    "- pop() 从栈中删除顶部项。它不需要参数并返回 item 。栈被修改。\n",
    "- peek() 从栈返回顶部项，但不会删除它。不需要参数。 不修改栈。\n",
    "- isEmpty() 测试栈是否为空。不需要参数，并返回布尔值。\n",
    "- size() 返回栈中的 item 数量。不需要参数，并返回一个整数。\n",
    "\n",
    "例如，s 是已经创建的空栈，表1展示了栈操作序列的结果。栈中，顶部项列在最右边。"
   ]
  },
  {
   "cell_type": "markdown",
   "metadata": {},
   "source": [
    "<center>表1. 简单的栈操作</center>\n",
    "\n",
    "栈操作|栈内容|返回值\n",
    "-|-|-\n",
    "s.is_empty()|[]|True\n",
    "s.push(4) |[4]|\n",
    "s.push(‘dog’)| [4,’dog’]|\n",
    "s.peek()| [4,’dog’]|‘dog’\n",
    "s.push(True) |[4,’dog’,True] \n",
    "s.size() |[4,’dog’,True]| 3\n",
    "s.is_empty() |[4,’dog’,True]| False\n",
    "s.push(8.4) |[4,’dog’,True,8.4] \n",
    "s.pop() |[4,’dog’,True] |8.4\n",
    "s.pop() |[4,’dog’] |True\n",
    "s.size() |[4,’dog’]| 2"
   ]
  }
 ],
 "metadata": {
  "kernelspec": {
   "display_name": "Python 3",
   "language": "python",
   "name": "python3"
  },
  "language_info": {
   "codemirror_mode": {
    "name": "ipython",
    "version": 3
   },
   "file_extension": ".py",
   "mimetype": "text/x-python",
   "name": "python",
   "nbconvert_exporter": "python",
   "pygments_lexer": "ipython3",
   "version": "3.6.5"
  }
 },
 "nbformat": 4,
 "nbformat_minor": 2
}
