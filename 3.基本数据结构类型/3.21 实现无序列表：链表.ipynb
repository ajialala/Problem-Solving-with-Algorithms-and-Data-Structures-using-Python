{
 "cells": [
  {
   "cell_type": "markdown",
   "metadata": {},
   "source": [
    "为了实现无序列表，我们将构建一个**链表**。我们需要确保元素的相对位置正确。然而，我们无需使用连续的内存来定位链表中的元素。与后面的有序列表对比，无序列表的元素不是按照大小顺序排列的，这就是所谓无序列表的无序。例如，考虑图 1. 中显示的项的集合。看起来这些值已被随机放置。如果我们可以在每个项目添加一些明确的信息，即下一个项目的位置(见图2)，那么每个项目的相对位置就可以通过以下简单的链接从一个项目到下一个来确定。\n",
    "![图1. 不受其物理位置约束的项目](pic/3.21.1.png)\n",
    "<center>图1. 不受其物理位置约束的项目</center>\n",
    "![图2. 使用显示链接确定的相对位置](pic/3.21.2.png)\n",
    "<center>图2. 使用显示链接确定的相对位置</center>"
   ]
  },
  {
   "cell_type": "markdown",
   "metadata": {},
   "source": [
    "需要注意的是，该列表的第一项的位置必须被明确指出。一旦我们知道第一项是什么，第一项就可以告诉我们第二项是什么，以此类推。从外部指向的第一项通常被称为链表的头。同样地，链表的最后一项需要告诉我们有没有下一个项目。"
   ]
  },
  {
   "cell_type": "markdown",
   "metadata": {},
   "source": [
    "### 1. Node 类\n",
    "用链表实现的基本模块是**节点**。每个节点对象必须持有至少两条信息。首先，节点必须包含列表元素本身。我们将这称为该节点的“**数据区**”(data field)。此外，每个节点必须保存到下一个节点的引用。如构造一个节点”93”(见图3. )。需要指出，我们将通常以如图 4. 所示的方式代表一个节点对象。节点类还包括访问和修改的常用方法：返回节点数据和引用到下一项。\n",
    "![图3. 节点类对象包含本身的项目数据和对下一个节点的引用](pic/3.21.3.png)\n",
    "<center>图3. 节点类对象包含本身的项目数据和对下一个节点的引用</center>\n",
    "![图4. 一个典型的节点类对象的实现](pic/3.21.4.png)\n",
    "<center>图4. 一个典型的节点类对象的实现</center>"
   ]
  },
  {
   "cell_type": "code",
   "execution_count": 1,
   "metadata": {},
   "outputs": [],
   "source": [
    "class Node:\n",
    "    def __init__(self,initdata):\n",
    "        self.data = initdata\n",
    "        self.next = None\n",
    "\n",
    "    def getData(self):\n",
    "        return self.data\n",
    "\n",
    "    def getNext(self):\n",
    "        return self.next\n",
    "\n",
    "    def setData(self,newdata):\n",
    "        self.data = newdata\n",
    "\n",
    "    def setNext(self,newnext):\n",
    "        self.next = newnext"
   ]
  },
  {
   "cell_type": "markdown",
   "metadata": {},
   "source": [
    "我们以常见的方式创建了节点类:"
   ]
  },
  {
   "cell_type": "code",
   "execution_count": 2,
   "metadata": {},
   "outputs": [
    {
     "data": {
      "text/plain": [
       "93"
      ]
     },
     "execution_count": 2,
     "metadata": {},
     "output_type": "execute_result"
    }
   ],
   "source": [
    "temp = Node(93)\n",
    "temp.getData()"
   ]
  },
  {
   "cell_type": "markdown",
   "metadata": {},
   "source": [
    "Python 的特殊值 None 将在节点类和之后的链表类中发挥重要的作用。引用 None 意味着没有下一个节点。在构造器中，一个节点的对下一节点引用的初始赋值是 None。因为这有时被称为把节点“接地”(grounding)，我们在图中将使用标准化的“接地”标志来表示一个值为 None 的引用。用 None 来作为你在初始化时对下一个节点的引用是一个极妙的主意。"
   ]
  },
  {
   "cell_type": "markdown",
   "metadata": {},
   "source": [
    "### 2. 类 : 无序列表 Unordered List\n",
    "无序列表将由一个节点集合组成，每一个节点采用显式引用链接到下一个节点。只要我们知道第一个节点的位置(包含第一项)，在这之后的每个元素都可以通过以下链接找到下一个节点。为实现这个想法，UnorderedList 类必须保持一个对第一节点的引用。注意每个 UnorderedList 对象将保持列表的头一个节点的引用。"
   ]
  },
  {
   "cell_type": "code",
   "execution_count": 3,
   "metadata": {},
   "outputs": [],
   "source": [
    "class UnorderedList:\n",
    "\n",
    "    def __init__(self):\n",
    "        self.head = None"
   ]
  },
  {
   "cell_type": "markdown",
   "metadata": {},
   "source": [
    "我们构建一个空的链表。赋值语句"
   ]
  },
  {
   "cell_type": "code",
   "execution_count": 4,
   "metadata": {},
   "outputs": [],
   "source": [
    "mylist = UnorderedList()"
   ]
  },
  {
   "cell_type": "markdown",
   "metadata": {},
   "source": [
    "在最初当我们建立一个链表时，其中没有任何元素。如图 5. 所示，这些赋值语句建立了一个连接好的链表。正如我们在定义节点类时讨论到的，特殊引用——None 会再被用来说明链表的头不指向任何东西。最终，如图 6. 所示，之前给出的示例列表将由一个链表来表示。链表的头指向包含列表的第一项的第一节点。以此类推，该节点有一个指针指向到下一个节点(的内容)。需要注意的一点是，链表类本身不包含任何节点。取而代之的是，它包含对链式存储结构的第一个节点的引用。\n",
    "![图5. 一个空链表](pic/3.21.5.png)\n",
    "<center>图5. 一个空链表</center>\n",
    "![图6. 一个由整数组成的链表](pic/3.21.6.png)\n",
    "<center>图6. 一个由整数组成的链表</center>"
   ]
  },
  {
   "cell_type": "markdown",
   "metadata": {},
   "source": [
    "下面代码中，is_empty(判断链表是否为空)方法仅仅只是检查了链表的头是否指向 None。其结果以布尔值表示，如果链表中没有节点，self.head==None 的结果只能是 True。因为新链表为空，所以构造器和是否为空的检验必须彼此保持一致。这个显示了使用指向 None 来指示链表结构结束的优越性。在Python 中，None 可以与任何引用比较。如果两个指向同一个物体，那么他们是平等的。我们在后续的方法中经常用到这一点。"
   ]
  },
  {
   "cell_type": "code",
   "execution_count": 5,
   "metadata": {},
   "outputs": [],
   "source": [
    "def isEmpty(self):\n",
    "    return self.head == None"
   ]
  },
  {
   "cell_type": "markdown",
   "metadata": {},
   "source": [
    "我们需要实现添加(add)的方法，把元素放入链表。在此之前，我们需要解决的重要问题是我们应该将新的元素放在链表的哪一部分。因为这个列表是无序的，新元素在列表中相对于其他元素的具体位置是不重要的。新的元素可以放置在任何地方。鉴于此，把新的元素放置在最简单的位置最好。\n",
    "\n",
    "考虑到链表结构只为我们提供了一个入口，即该列表的头，所有其他节点只能通过访问第一个节点，然后通过下一个引用链接到那里。这意味着最容易增加新节点的地方是在头部，或者说在列表的开始。换句话说，我们将把新项目作为列表的第一个项目，而现有的项目将需要连接到这个新第一个项目，这样它们就会跟随过来。\n",
    "\n",
    "在图 6 中展示的链表是通过多次添加数字这个方法来建构的。"
   ]
  },
  {
   "cell_type": "markdown",
   "metadata": {},
   "source": [
    "请注意，由于 31 是添加到列表中的第一项，那么它最终将在链表的最后一个节点，因为之后的每一项被添加在它前面。同时，由于 54 是最后加入的元素，它将成为链表中的第一个节点的数据值。\n",
    "\n",
    "add 方法如代码中所示。列表中的每个元素必定属于一个节点。第二行temp = Node(item)创建了一个新的节点并将插入的元素作为节点的数据。现在我们必须通过链接这个新的节点与原有的结构来完成插入元素的工作。这需要图 8. 所示的两个步骤。第一个步骤是把新插入节点的引用设为原来列表的头节点。由于列表中的其他部分已经和这个新节点正确地连接了，我们可以把列表头部head 指向这个新的节点。代码第 4 行self.head = temp就是这一步骤，它确定了列表的头部。\n",
    "\n",
    "上述两个步骤的顺序是十分重要的。如果将第 3 行temp.setNext(self.head)和第 4 行self.head = temp的顺序颠倒过来，那么结果将如图 9.所示。由于头部是外部对链表内部节点的唯一引用，所有原有的节点将会丢失并且无法被再度访问。\n",
    "![图7. 向一个两步的进程中添加一个新节点](pic/3.21.7.png)\n",
    "<center>图7. 向一个两步的进程中添加一个新节点</center>\n",
    "![图8. 改变两个步骤顺序的后果](pic/3.21.8.png)\n",
    "<center>图8. 改变两个步骤顺序的后果</center>"
   ]
  },
  {
   "cell_type": "code",
   "execution_count": 6,
   "metadata": {},
   "outputs": [],
   "source": [
    "class UnorderedList:\n",
    "\n",
    "    def __init__(self):\n",
    "        self.head = None\n",
    "    \n",
    "    def add(self,item):\n",
    "        temp = Node(item)\n",
    "        temp.setNext(self.head)\n",
    "        self.head = temp"
   ]
  },
  {
   "cell_type": "code",
   "execution_count": 7,
   "metadata": {},
   "outputs": [],
   "source": [
    "mylist = UnorderedList()\n",
    "mylist.add(31)\n",
    "mylist.add(77)\n",
    "mylist.add(17)\n",
    "mylist.add(93)\n",
    "mylist.add(26)\n",
    "mylist.add(54)"
   ]
  },
  {
   "cell_type": "markdown",
   "metadata": {},
   "source": [
    "接下来我们所要实现的方法——求元素个数(size)、查找(search)和移除(remove)，全部是基于一个叫做链表的遍历(traversal)的操作的。遍历指的是有序地访问每一个节点的过程。为了做到这一点，我们可以使用一个外部引用，它最开始指向列表的第一个节点。每当我们访问一个节点时，我们通过“侧向移动”(traversing)到下一个引用的方式，将外部引用移动到下一个节点。\n",
    "\n",
    "为了实现“size 求元素个数”的方法，我们需要遍历链表，并且记录出现过的节点个数。下面是计算列表中节点个数的 Python 代码。我们把这个外部引用称为“当前”(current)，它被初始化指向列表的头部。最初我们并没有发现任何节点，所以计数的初值被设定为 0。只要这个外部引用没有遇到列表的尾端(None)，我们就将 current移动到下一个节点。和前文相同，把引用和 None 进行比较的操作非常有用。每当 current 移动到了一个新的节点，我们就把计数器加 1(count)。最终，我们在循环结束后返回了计数值。图 9. 展示了这样一个进程。\n",
    "![图9. 将列表从头遍历到尾](pic/3.21.9.png)\n",
    "<center>图9. 将列表从头遍历到尾</center>"
   ]
  },
  {
   "cell_type": "code",
   "execution_count": 8,
   "metadata": {},
   "outputs": [],
   "source": [
    "def size(self):\n",
    "    current = self.head\n",
    "    count = 0\n",
    "    while current != None:\n",
    "        count = count + 1\n",
    "        current = current.getNext()\n",
    "\n",
    "    return count"
   ]
  },
  {
   "cell_type": "markdown",
   "metadata": {},
   "source": [
    "在一个无序表中查询一个数值这一方法的实现同样需要用到遍历。每当我们访问一个链表中的节点时，我们会判断储存在此的数据是否就是我们所要找的元素。然而在这个例子中，我们并没有必要遍历整个列表。事实上，如果我们的工作进行到了列表的底端，这意味着我们所要寻找的元素在列表中并不存在。同样，如果我们找到了那个元素，那么就没有必要继续寻找了。\n",
    "同 size 方法一样，遍历在列表的头部被初始化(第 2行)。我们同样使用一个叫做 found 的布尔变量来表示我们是否找到了我们所要找寻的元素。考虑到我们在遍历开始时并没有找到那个元素，found 被设为假(False)(第 3 行)。第 4 行中的循环同时考虑了上述的两种情况。只要还有余下的未访问节点并且我们还没有找到元素，我们便继续检查下一个节点。第 5 行中的条件语句判断所寻的数据项是否在节点 current 之中。如果是，那么 found 被设为真(True)。"
   ]
  },
  {
   "cell_type": "code",
   "execution_count": 9,
   "metadata": {},
   "outputs": [
    {
     "data": {
      "text/plain": [
       "True"
      ]
     },
     "execution_count": 9,
     "metadata": {},
     "output_type": "execute_result"
    }
   ],
   "source": [
    "class UnorderedList:\n",
    "\n",
    "    def __init__(self):\n",
    "        self.head = None\n",
    "    \n",
    "    def add(self,item):\n",
    "        temp = Node(item)\n",
    "        temp.setNext(self.head)\n",
    "        self.head = temp\n",
    "    \n",
    "    def search(self,item):\n",
    "        current = self.head\n",
    "        found = False\n",
    "        while current != None and not found:\n",
    "            if current.getData() == item:\n",
    "                found = True\n",
    "            else:\n",
    "                current = current.getNext()\n",
    "\n",
    "        return found\n",
    "\n",
    "mylist = UnorderedList()\n",
    "mylist.add(31)\n",
    "mylist.add(77)\n",
    "mylist.add(17)\n",
    "mylist.add(93)\n",
    "mylist.add(26)\n",
    "mylist.add(54)\n",
    "\n",
    "mylist.search(17)"
   ]
  },
  {
   "cell_type": "markdown",
   "metadata": {},
   "source": [
    "因为 17 在列表中，所以遍历过程需要移动到包含 17 的节点。此时，found 变量设置为 True，while 条件将失败，返回值。 这个过程可以在 图 10中看到。\n",
    "![图10. 成功找到数值“17”](pic/3.21.10.png)\n",
    "<center>图10. 成功找到数值“17”</center>"
   ]
  },
  {
   "cell_type": "markdown",
   "metadata": {},
   "source": [
    "“移除(remove)”这个方法需要两个步骤。首先我们需要遍历这个列表，来找寻我们想要移除的元素。只要找到了这个元素(假设它存在)，就必须移除它。第一步同查询(search)十分接近。我们使用一个外部引用，让它开始时指向链表的头部，顺着链表遍历，直到找到要移除的元素为止。由于我们假设待移除的元素一定存在，那么循环将会在遍历到列表底部前终止。所以，我们这时只需要再使用一个布尔变量 found。\n",
    "\n",
    "当 found 为真(True)时，current 将会是对包含了要移除元素的一个引用。但我们要如何移除它?一个可行的方案是，用一些标记来替代要移除的元素,从而表明原先的元素已经不在列表中了。这个方案的问题是，节点的数目将与数据项的数目不相同。通过移除整个节点来移除元素会是更可行\n",
    "的方式。\n",
    "\n",
    "为了移除含有待移除元素的节点，我们需要修改前一个节点的链接方式，使它引用 current 紧跟着的节点。不幸的是，在链表中没有办法从后往前移动。因为 current 引用的节点处于一个我们需要作修改的节点的后方，当我们移除 current 所指节点后，已经无法对前一个节点进行必要的修改操作。\n",
    "\n",
    "解决这个难题的方法是，在遍历链表时使用两个外部引用。current 不变，仍然标记当前遍历到的位置。新加入的引用——我们叫“前一个”(previous)——在遍历过程中总是落后于 current 一个节点。这样，当 current 停在待删除节点时，previous 即停在链表中需要修改的节点处。\n",
    "\n",
    "代码第二第三行给两个外部引用赋了初始值。注意到current 如同其他的“遍历”实例一样，从列表的头部开始。然而，我们设定 previous 总是访问current 的前一个节点。因此，previous 的初值设为 None，因为头部之前没有节点(如图 11.)。布尔变量 found 将会再次被用于控制这次循环。\n",
    "\n",
    "在第六到第七行我们区分了储存在节点中的单元是否是我们想要移除的元素。如果是，found 将会变成真(True)。如果我们没有找到元素，previous 和 current 必须同时向后移动一个节点。同样，这两个操作的顺序至关重要，首先 previous 要向后移动一个节点，到 current 的位置，然后 current 才能移动。这一过程常常被称为“一寸寸蠕动”(inch-worming)，因为 previous 先要跟上 current，current 才能向前移动。图 12. 展示previous 和 current 在顺着列表而下寻找含有 17 的节点时的移动方式。"
   ]
  },
  {
   "cell_type": "code",
   "execution_count": 10,
   "metadata": {},
   "outputs": [],
   "source": [
    "def remove(self,item):\n",
    "    current = self.head\n",
    "    previous = None\n",
    "    found = False\n",
    "    while not found:\n",
    "        if current.getData() == item:\n",
    "            found = True\n",
    "        else:\n",
    "            previous = current\n",
    "            current = current.getNext()\n",
    "\n",
    "    if previous == None:\n",
    "        self.head = current.getNext()\n",
    "    else:\n",
    "        previous.setNext(current.getNext())"
   ]
  },
  {
   "cell_type": "markdown",
   "metadata": {},
   "source": [
    "![图11. 两次引用previous和current的初值](pic/3.21.11.png)\n",
    "<center>图11. 两次引用previous和current的初值</center>\n",
    "![图12. previous和current沿列表移动](pic/3.21.12.png)\n",
    "<center>图12. previous和current沿列表移动</center>"
   ]
  },
  {
   "cell_type": "markdown",
   "metadata": {},
   "source": [
    "移除(remove)工作中的查询步骤一旦完成，我们需要从链表中移除那个节点。图 13. 显示了一个必须进行改动的连接。然而这里又有一点需要特别说明。如果要移除的那个元素恰好是列表中的第一个，那么 current 会引用链表第一个节点。这也就意味着 previous 的引用会是 None。我们之前提到，previous 要指向那个引用要发生变化的节点。在这种情况下，需要改动的不是 previous，而是链表的头节点(如图 14.)。\n",
    "![图13. 移除列表中间的一个节点](pic/3.21.13.png)\n",
    "<center>图13. 移除列表中间的一个节点</center>\n",
    "![图14. 移除列表第一个节点](pic/3.21.14.png)\n",
    "<center>图14. 移除列表第一个节点</center>"
   ]
  },
  {
   "cell_type": "markdown",
   "metadata": {},
   "source": [
    "remove方法的代码第 12 行让我们可以检查我们所要处理的情况是否是上述的特殊情况。如果 previous 没有移动，那么当布尔变量 found 已经为真时，previous 仍然是 None。这种情况下(第 13 行)，链表头部 head 要发生变化，引用紧跟 current 的那个节点，实际效果就等于从列表中移除第一个节点。\n",
    "\n",
    "而当 previous 不是 None 时，要移除的节点一定在链表中表头后方的某处。这时 previous 将会让我们找到所要移除的节点的前一个节点。第 15 行调用了 previous 的 setNext 方法来完成这次移除。注意到在两种情况中,需要改动的节点或表头最终都指向了 current 的后一个节点。读到这里，人们常常产生的疑问是，上述的两种情况是否同样适用于被移除的节点是最后一个的情形。\n",
    "\n",
    "剩下的方法——追加(append)，插入(insert)，索引(index)，弹出(pop)，都将作为练习。任何一个操作中都要同时考虑对象在列表头部和其他位置这两种情况。同样,插入、索引、弹出需要我们给列表中的位置命名。我们假定列表中位置的名称是从 0 开始的整数。"
   ]
  }
 ],
 "metadata": {
  "kernelspec": {
   "display_name": "Python 3",
   "language": "python",
   "name": "python3"
  },
  "language_info": {
   "codemirror_mode": {
    "name": "ipython",
    "version": 3
   },
   "file_extension": ".py",
   "mimetype": "text/x-python",
   "name": "python",
   "nbconvert_exporter": "python",
   "pygments_lexer": "ipython3",
   "version": "3.6.5"
  }
 },
 "nbformat": 4,
 "nbformat_minor": 2
}
