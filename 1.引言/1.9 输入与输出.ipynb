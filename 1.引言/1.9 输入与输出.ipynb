{
 "cells": [
  {
   "cell_type": "markdown",
   "metadata": {},
   "source": [
    "#### 1. 关于print输出"
   ]
  },
  {
   "cell_type": "code",
   "execution_count": 1,
   "metadata": {},
   "outputs": [
    {
     "name": "stdout",
     "output_type": "stream",
     "text": [
      "Hello World\n"
     ]
    }
   ],
   "source": [
    "print(\"Hello\",\"World\")"
   ]
  },
  {
   "cell_type": "code",
   "execution_count": 2,
   "metadata": {},
   "outputs": [
    {
     "name": "stdout",
     "output_type": "stream",
     "text": [
      "Hello***World\n"
     ]
    }
   ],
   "source": [
    "print(\"Hello\",\"World\", sep=\"***\")"
   ]
  },
  {
   "cell_type": "code",
   "execution_count": 3,
   "metadata": {},
   "outputs": [
    {
     "name": "stdout",
     "output_type": "stream",
     "text": [
      "Hello World***"
     ]
    }
   ],
   "source": [
    "print(\"Hello\",\"World\", end=\"***\")"
   ]
  },
  {
   "cell_type": "markdown",
   "metadata": {},
   "source": [
    "#### 2. 格式化字符串。格式化字符串提供了一个模板,其中的单词或空格会保持原样,而占位符则留给变量来填充。"
   ]
  },
  {
   "cell_type": "code",
   "execution_count": 4,
   "metadata": {},
   "outputs": [],
   "source": [
    "aName = 'Bob'\n",
    "age = 13"
   ]
  },
  {
   "cell_type": "code",
   "execution_count": 5,
   "metadata": {},
   "outputs": [
    {
     "name": "stdout",
     "output_type": "stream",
     "text": [
      "Bob is 13 years old.\n"
     ]
    }
   ],
   "source": [
    "print(aName, \"is\", age, \"years old.\")"
   ]
  },
  {
   "cell_type": "code",
   "execution_count": 6,
   "metadata": {},
   "outputs": [
    {
     "name": "stdout",
     "output_type": "stream",
     "text": [
      "Bob is 13 years old.\n"
     ]
    }
   ],
   "source": [
    "print(\"%s is %d years old.\" % (aName, age))"
   ]
  },
  {
   "cell_type": "markdown",
   "metadata": {},
   "source": [
    "这个简单的例子展示了一种新的串表达式。% 是字符串运算符,被称为**格式操作符**。在上面这个表达式中,% 的左边是模版或者格式字符串,右边则是一个容器,其中包含了替换格式字符串的变量值。\n",
    "<center>表1. 格式化字符串转换字符</center>\n",
    "\n",
    "字符|输出格式\n",
    "-|-\n",
    "d, i|整型\n",
    "u|无符号整型\n",
    "f|浮点型,如 m.ddddd\n",
    "e|浮点型,如 m.ddddde+/-xx\n",
    "E|浮点型,如 m.dddddE+/-xx\n",
    "g|指数比-4 小或比 5 大时使用%e,否则使用%f\n",
    "c|单字符\n",
    "s|字符串或者是能通过str()转为字符串的数据\n",
    "%|输入一个%"
   ]
  },
  {
   "cell_type": "markdown",
   "metadata": {},
   "source": [
    "除了转换字符之外,你也可以在 % 和转换字符之间插入格式修饰符。格式修饰符可以用一段给定长度的空格使变量实现左对齐或者右对齐。格式修饰符也可在小数点后添加数字,指定字段宽度。\n",
    "<center>表2. 格式修饰符</center>\n",
    "\n",
    "修饰符类型|例子|描述\n",
    "-|-|-\n",
    "number|%20d|变量值占据 20 个字符宽度\n",
    "-|%-20d|变量值占据 20 个字符宽度,左对齐\n",
    "+|%+20d|变量值占据 20 个字符宽度,右对齐\n",
    "0|%020d|变量值占据 20 个字符宽度,前置“0”\n",
    ".|%20.2f|变量值占据 20 个字符宽度,且保留两位小数\n",
    "(name)|%(name)d|从字典中取 key 为 name 的值放在此处"
   ]
  },
  {
   "cell_type": "markdown",
   "metadata": {},
   "source": [
    "格式操作符(%)的右侧是一个由变量组成的容器,其中的变量值将会被插入左侧的格式字符串,这个容器既可以是**元组**,也可以是**字典**。如果这个容器是元组,那么变量值的插入是按顺序的,也就是说,元组中的第一个元素对应于格式化字符串的第一个占位符,然后从左往右依次对应。如果这个容器是字典,那么变量值是按照他们的键(key)来插入的,在这种情况下,所有的转换字符必须用表格中的(name)修饰符来指定键(key)的名称,从而插入其值。"
   ]
  },
  {
   "cell_type": "code",
   "execution_count": 7,
   "metadata": {},
   "outputs": [
    {
     "name": "stdout",
     "output_type": "stream",
     "text": [
      "The banana costs 24 cents\n"
     ]
    }
   ],
   "source": [
    "price = 24\n",
    "item = \"banana\"\n",
    "print(\"The %s costs %d cents\"%(item,price))"
   ]
  },
  {
   "cell_type": "code",
   "execution_count": 8,
   "metadata": {},
   "outputs": [
    {
     "name": "stdout",
     "output_type": "stream",
     "text": [
      "The     banana costs 24.00 cents\n"
     ]
    }
   ],
   "source": [
    "print(\"The %+10s costs %5.2f cents\"%(item,price))"
   ]
  },
  {
   "cell_type": "code",
   "execution_count": 9,
   "metadata": {},
   "outputs": [
    {
     "name": "stdout",
     "output_type": "stream",
     "text": [
      "The     banana costs      24.00 cents\n"
     ]
    }
   ],
   "source": [
    "print(\"The %+10s costs %10.2f cents\"%(item,price))"
   ]
  },
  {
   "cell_type": "code",
   "execution_count": 10,
   "metadata": {},
   "outputs": [
    {
     "name": "stdout",
     "output_type": "stream",
     "text": [
      "The banana costs    24.0 cents\n"
     ]
    }
   ],
   "source": [
    "itemdict = {\"item\":\"banana\",\"cost\":24}\n",
    "print(\"The %(item)s costs %(cost)7.1f cents\"%itemdict)"
   ]
  }
 ],
 "metadata": {
  "kernelspec": {
   "display_name": "Python 3",
   "language": "python",
   "name": "python3"
  },
  "language_info": {
   "codemirror_mode": {
    "name": "ipython",
    "version": 3
   },
   "file_extension": ".py",
   "mimetype": "text/x-python",
   "name": "python",
   "nbconvert_exporter": "python",
   "pygments_lexer": "ipython3",
   "version": "3.6.5"
  }
 },
 "nbformat": 4,
 "nbformat_minor": 2
}
