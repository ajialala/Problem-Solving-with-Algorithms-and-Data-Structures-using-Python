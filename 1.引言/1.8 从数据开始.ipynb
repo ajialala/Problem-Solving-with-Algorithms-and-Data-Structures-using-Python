{
 "cells": [
  {
   "cell_type": "markdown",
   "metadata": {},
   "source": [
    "# 从数据开始\n",
    "在Python中，以及在任何其他面向对象的编程语言中，我们定义一个**类**来描述数据的外观（状态）和数据能做什么（行为）。因为类的用户只看数据项的状态和行为，所以类类似于抽象的数据类型。数据项在面向对象的范式中称为**对象**。 对象是类的实例。"
   ]
  },
  {
   "cell_type": "markdown",
   "metadata": {},
   "source": [
    "### 1. 预置核心数据类型：数值和布尔。下面是数值中整数和浮点数的一些相关计算："
   ]
  },
  {
   "cell_type": "code",
   "execution_count": 1,
   "metadata": {},
   "outputs": [
    {
     "name": "stdout",
     "output_type": "stream",
     "text": [
      "14\n",
      "20\n",
      "1024\n",
      "2.0\n",
      "2.3333333333333335\n",
      "2\n",
      "1\n",
      "0.5\n",
      "0\n",
      "3\n",
      "1267650600228229401496703205376\n"
     ]
    }
   ],
   "source": [
    "print(2+3*4)\n",
    "print((2+3)*4)\n",
    "print(2**10)\n",
    "print(6/3)\n",
    "print(7/3)\n",
    "print(7//3)\n",
    "print(7%3)\n",
    "print(3/6)\n",
    "print(3//6)\n",
    "print(3%6)\n",
    "print(2**100)"
   ]
  },
  {
   "cell_type": "markdown",
   "metadata": {},
   "source": [
    "![一个变量可以指向许多种类型的数据](pic/1.png)\n",
    "<center>图1. 一个变量可以指向许多种类型的数据</center>"
   ]
  },
  {
   "cell_type": "markdown",
   "metadata": {},
   "source": [
    "### 2. 预置集合数据类型\n",
    "有序容器：\n",
    "- 列表\n",
    "- 字符串\n",
    "- 元组\n",
    "\n",
    "无序容器：\n",
    "- 集合\n",
    "- 字典"
   ]
  },
  {
   "cell_type": "markdown",
   "metadata": {},
   "source": [
    "列表是异质的："
   ]
  },
  {
   "cell_type": "code",
   "execution_count": 2,
   "metadata": {},
   "outputs": [
    {
     "data": {
      "text/plain": [
       "[1, 3, True, 6.5]"
      ]
     },
     "execution_count": 2,
     "metadata": {},
     "output_type": "execute_result"
    }
   ],
   "source": [
    "myList = [1,3,True,6.5]\n",
    "myList"
   ]
  },
  {
   "cell_type": "markdown",
   "metadata": {},
   "source": [
    "<center>表1. 对于所有python序列均有用的运算符</center>\n",
    "\n",
    "|名称|运算符|\n",
    "|:-:|:-:|\n",
    "|索引|\\[\\]|\n",
    "|连接|+|\n",
    "|重复|\\*|\n",
    "|是否在其中|in|\n",
    "|长度|len|\n",
    "|切片|[:]|"
   ]
  },
  {
   "cell_type": "markdown",
   "metadata": {},
   "source": [
    "强调一件有关**重复操作**非常重要的事，就是重复运算的结果是对序列中数据的引用的重复。这个可以在如下的展示中得到体现:"
   ]
  },
  {
   "cell_type": "code",
   "execution_count": 3,
   "metadata": {},
   "outputs": [
    {
     "name": "stdout",
     "output_type": "stream",
     "text": [
      "[[1, 2, 3, 4], [1, 2, 3, 4], [1, 2, 3, 4]]\n",
      "[[1, 2, 45, 4], [1, 2, 45, 4], [1, 2, 45, 4]]\n"
     ]
    }
   ],
   "source": [
    "myList = [1,2,3,4]\n",
    "A = [myList]*3\n",
    "print(A)\n",
    "myList[2]=45\n",
    "print(A)"
   ]
  },
  {
   "cell_type": "markdown",
   "metadata": {},
   "source": [
    "<center>表2. python列表提供的方法</center>\n",
    "\n",
    "方法名|用法|解释\n",
    "-|-|-\n",
    "append|alist.append(item)|在列表末尾添加一个新项\n",
    "insert|alist.insert(i,item)|在列表的某个位置插入一个项\n",
    "pop|alist.pop()|移除并返回列表的最后一项\n",
    "pop|alist.pop(i)|移除并返回列表的第 i 项\n",
    "sort|alist.sort()|对列表进行排序\n",
    "reverse|alist.reverse()|反转列表\n",
    "del|del alist[i]|删除在该位置上的元素\n",
    "index|alist.index(item)|返回列表中第一个等于 item 项的索引\n",
    "count|alist.count(item)|返回列表中有多少项的值等于 item\n",
    "remove|alist.remove(item)|删除列表中第一个值等于 item 的项"
   ]
  },
  {
   "cell_type": "code",
   "execution_count": 5,
   "metadata": {},
   "outputs": [
    {
     "name": "stdout",
     "output_type": "stream",
     "text": [
      "[1024, 3, True, 6.5, False]\n"
     ]
    }
   ],
   "source": [
    "myList = [1024, 3, True, 6.5]\n",
    "myList.append(False)\n",
    "print(myList)"
   ]
  },
  {
   "cell_type": "code",
   "execution_count": 6,
   "metadata": {},
   "outputs": [
    {
     "name": "stdout",
     "output_type": "stream",
     "text": [
      "[1024, 3, 4.5, True, 6.5, False]\n"
     ]
    }
   ],
   "source": [
    "myList.insert(2,4.5)\n",
    "print(myList)"
   ]
  },
  {
   "cell_type": "code",
   "execution_count": 7,
   "metadata": {},
   "outputs": [
    {
     "name": "stdout",
     "output_type": "stream",
     "text": [
      "False\n"
     ]
    }
   ],
   "source": [
    "print(myList.pop())"
   ]
  },
  {
   "cell_type": "code",
   "execution_count": 8,
   "metadata": {},
   "outputs": [
    {
     "name": "stdout",
     "output_type": "stream",
     "text": [
      "[1024, 3, 4.5, True, 6.5]\n",
      "3\n"
     ]
    }
   ],
   "source": [
    "print(myList)\n",
    "print(myList.pop(1))"
   ]
  },
  {
   "cell_type": "code",
   "execution_count": 9,
   "metadata": {},
   "outputs": [
    {
     "name": "stdout",
     "output_type": "stream",
     "text": [
      "[1024, 4.5, True, 6.5]\n"
     ]
    }
   ],
   "source": [
    "print(myList)"
   ]
  },
  {
   "cell_type": "code",
   "execution_count": 10,
   "metadata": {},
   "outputs": [
    {
     "name": "stdout",
     "output_type": "stream",
     "text": [
      "[1024, 4.5, 6.5]\n"
     ]
    }
   ],
   "source": [
    "myList.pop(2)\n",
    "print(myList)"
   ]
  },
  {
   "cell_type": "code",
   "execution_count": 11,
   "metadata": {},
   "outputs": [
    {
     "name": "stdout",
     "output_type": "stream",
     "text": [
      "[4.5, 6.5, 1024]\n"
     ]
    }
   ],
   "source": [
    "myList.sort()\n",
    "print(myList)"
   ]
  },
  {
   "cell_type": "code",
   "execution_count": 12,
   "metadata": {},
   "outputs": [
    {
     "name": "stdout",
     "output_type": "stream",
     "text": [
      "[1024, 6.5, 4.5]\n"
     ]
    }
   ],
   "source": [
    "myList.reverse()\n",
    "print(myList)"
   ]
  },
  {
   "cell_type": "code",
   "execution_count": 13,
   "metadata": {},
   "outputs": [
    {
     "name": "stdout",
     "output_type": "stream",
     "text": [
      "1\n",
      "2\n"
     ]
    }
   ],
   "source": [
    "print(myList.count(6.5))\n",
    "print(myList.index(4.5))"
   ]
  },
  {
   "cell_type": "code",
   "execution_count": 14,
   "metadata": {},
   "outputs": [
    {
     "name": "stdout",
     "output_type": "stream",
     "text": [
      "[1024, 4.5]\n"
     ]
    }
   ],
   "source": [
    "myList.remove(6.5)\n",
    "print(myList)"
   ]
  },
  {
   "cell_type": "code",
   "execution_count": 15,
   "metadata": {},
   "outputs": [
    {
     "name": "stdout",
     "output_type": "stream",
     "text": [
      "[4.5]\n"
     ]
    }
   ],
   "source": [
    "del myList[0]\n",
    "print(myList)"
   ]
  },
  {
   "cell_type": "markdown",
   "metadata": {},
   "source": [
    "range产生一个有顺序的**对象**，这个对象可以表示一个**序列**。"
   ]
  },
  {
   "cell_type": "code",
   "execution_count": 16,
   "metadata": {},
   "outputs": [
    {
     "data": {
      "text/plain": [
       "range(0, 10)"
      ]
     },
     "execution_count": 16,
     "metadata": {},
     "output_type": "execute_result"
    }
   ],
   "source": [
    "range(10)"
   ]
  },
  {
   "cell_type": "code",
   "execution_count": 17,
   "metadata": {},
   "outputs": [
    {
     "data": {
      "text/plain": [
       "[0, 1, 2, 3, 4, 5, 6, 7, 8, 9]"
      ]
     },
     "execution_count": 17,
     "metadata": {},
     "output_type": "execute_result"
    }
   ],
   "source": [
    "list(range(10))"
   ]
  },
  {
   "cell_type": "markdown",
   "metadata": {},
   "source": [
    "字符串和列表之间最大的区别就是列表可以被修改而字符串不能。这被称作可变性。列表是可变的,字符串是不可变的。比如,你可以通过赋值和索引改变一个列表中的元素,而对于字符串这种操作是不允许的。因为字符串是序列,所以所有之前提及的对序列的操作都适用。另外,字符串也有它的一系列方法,一部分被展现在表3里,例如"
   ]
  },
  {
   "cell_type": "markdown",
   "metadata": {},
   "source": [
    "<center>表3. 字符串的方法</center>\n",
    "\n",
    "方法名|用法|解释\n",
    "-|-|-\n",
    "center|astring.center(w)|返回一个字符串,w 长度,原字符串居中\n",
    "count|astring.count(item)|返回原字符串中出现 item 的次数\n",
    "ljust|astring.ljust(w)|返回一个字符串,w 长度,原字符串居左\n",
    "lower|astring.lower()|返回一个字符串,全部小写rjust astring.rjust(w) 返回一个字符串,w 长度,原字符串居右\n",
    "find|astring.find(item)|查询 item,返回第一个匹配的索引位置\n",
    "split|astring.split(schar)|以 schar 为分隔符,将原字符串分割,返回一个列表"
   ]
  },
  {
   "cell_type": "markdown",
   "metadata": {},
   "source": [
    "元组 tuple 和列表 list 类似,也是异质数据序列容器,区别是,tuple不可改变其中数据,就像字符串。元组不可被修改。元组表示为用圆括号括起的,用逗号隔开的一系列值。当然,作为一个序列,它也适用于上述的关于序列的运算符"
   ]
  },
  {
   "cell_type": "markdown",
   "metadata": {},
   "source": [
    "集合是 0 个或多个数据的无序散列容器。集合不允许出现重复元素,表示为花括号括起的、用逗号隔开的一系列值。空的集合表示为set()。集合是异质的,并且集合是可变的。例如:"
   ]
  },
  {
   "cell_type": "code",
   "execution_count": 18,
   "metadata": {},
   "outputs": [
    {
     "data": {
      "text/plain": [
       "{3, 4.5, 6, False, 'cat'}"
      ]
     },
     "execution_count": 18,
     "metadata": {},
     "output_type": "execute_result"
    }
   ],
   "source": [
    "{3,6,\"cat\",4.5,False}"
   ]
  },
  {
   "cell_type": "code",
   "execution_count": 19,
   "metadata": {},
   "outputs": [
    {
     "data": {
      "text/plain": [
       "{3, 4.5, 6, False, 'cat'}"
      ]
     },
     "execution_count": 19,
     "metadata": {},
     "output_type": "execute_result"
    }
   ],
   "source": [
    "mySet = {3,6,\"cat\",4.5,False}\n",
    "mySet"
   ]
  },
  {
   "cell_type": "markdown",
   "metadata": {},
   "source": [
    "<center>表4. Python 中集合的运算符</center>\n",
    "\n",
    "运算|运算|解释\n",
    "-|-|-\n",
    "属于关系|in|判断一个元素是否属于这个集合\n",
    "元素数目|len|返回值是集合中元素的数目\n",
    "&#124;(并集)|集合 A &#124; 集合 B|返回一个新集合,这个集合是集合 A,B 的并集\n",
    "&(交集)|集合 A & 集合 B|返回一个新集合,这个集合只有集合 A,B 共有的元素,是集合 A,B 的交集\n",
    "-|集合 A – 集合 B|返回一个新集合,这个集合是集合 A 除去 A 与 B共有的元素(A-(A∩B))\n",
    "<=|集合 A <= 集合 B|判断集合 A 中的所有元素是否都在集合 B 中,返回布尔值 True或者 False"
   ]
  },
  {
   "cell_type": "markdown",
   "metadata": {},
   "source": [
    "<center>表5. Python 中集合操作的函数</center>\n",
    "\n",
    "函数名|使用方法|解释\n",
    "-|-|-\n",
    "union|A.union(B)|返回一个新集合,这个集合含有 A,B 中的所有元素,是集合 A,B 的并集\n",
    "intersection|A.intersection(B)|返回一个新集合,这个集合只有集合 A,B 共有的元素,是集合 A,B 的交集\n",
    "difference|A.difference(B)| 返回一个新集合,这个集合是集合 A 除去 A 与 B 共有的元素(A-(A∩B))\n",
    "issubset|A.issubset(B)| 判断集合 A 中的所有元素是否都在集合 B 中,返回布尔值 True 或者 False\n",
    "add|A.add(item)|把 item 这个元素添加到集合 A 中\n",
    "remove|A.remove(item)|从集合 A 中除去 item 这个元素\n",
    "pop|aset.pop()|从集合中删除任意元素\n",
    "clear|aset.clear()|从集合中删除所有元素"
   ]
  },
  {
   "cell_type": "code",
   "execution_count": 20,
   "metadata": {},
   "outputs": [
    {
     "data": {
      "text/plain": [
       "{3, 4.5, 6, False, 'cat'}"
      ]
     },
     "execution_count": 20,
     "metadata": {},
     "output_type": "execute_result"
    }
   ],
   "source": [
    "mySet"
   ]
  },
  {
   "cell_type": "code",
   "execution_count": 21,
   "metadata": {},
   "outputs": [
    {
     "data": {
      "text/plain": [
       "{100, 3, 4.5, 6, 99, False, 'cat'}"
      ]
     },
     "execution_count": 21,
     "metadata": {},
     "output_type": "execute_result"
    }
   ],
   "source": [
    "yourSet = {99,3,100}\n",
    "mySet.union(yourSet)"
   ]
  },
  {
   "cell_type": "code",
   "execution_count": 22,
   "metadata": {},
   "outputs": [
    {
     "data": {
      "text/plain": [
       "{100, 3, 4.5, 6, 99, False, 'cat'}"
      ]
     },
     "execution_count": 22,
     "metadata": {},
     "output_type": "execute_result"
    }
   ],
   "source": [
    "mySet | yourSet"
   ]
  },
  {
   "cell_type": "code",
   "execution_count": 23,
   "metadata": {},
   "outputs": [
    {
     "data": {
      "text/plain": [
       "{3}"
      ]
     },
     "execution_count": 23,
     "metadata": {},
     "output_type": "execute_result"
    }
   ],
   "source": [
    "mySet.intersection(yourSet)"
   ]
  },
  {
   "cell_type": "code",
   "execution_count": 24,
   "metadata": {},
   "outputs": [
    {
     "data": {
      "text/plain": [
       "{3}"
      ]
     },
     "execution_count": 24,
     "metadata": {},
     "output_type": "execute_result"
    }
   ],
   "source": [
    "mySet & yourSet"
   ]
  },
  {
   "cell_type": "code",
   "execution_count": 25,
   "metadata": {},
   "outputs": [
    {
     "data": {
      "text/plain": [
       "{4.5, 6, False, 'cat'}"
      ]
     },
     "execution_count": 25,
     "metadata": {},
     "output_type": "execute_result"
    }
   ],
   "source": [
    "mySet.difference(yourSet)"
   ]
  },
  {
   "cell_type": "code",
   "execution_count": 26,
   "metadata": {},
   "outputs": [
    {
     "data": {
      "text/plain": [
       "{4.5, 6, False, 'cat'}"
      ]
     },
     "execution_count": 26,
     "metadata": {},
     "output_type": "execute_result"
    }
   ],
   "source": [
    "mySet - yourSet"
   ]
  },
  {
   "cell_type": "code",
   "execution_count": 27,
   "metadata": {},
   "outputs": [
    {
     "data": {
      "text/plain": [
       "True"
      ]
     },
     "execution_count": 27,
     "metadata": {},
     "output_type": "execute_result"
    }
   ],
   "source": [
    "{3,100}.issubset(yourSet)"
   ]
  },
  {
   "cell_type": "code",
   "execution_count": 28,
   "metadata": {},
   "outputs": [
    {
     "data": {
      "text/plain": [
       "True"
      ]
     },
     "execution_count": 28,
     "metadata": {},
     "output_type": "execute_result"
    }
   ],
   "source": [
    "{3,100}<=yourSet"
   ]
  },
  {
   "cell_type": "code",
   "execution_count": 29,
   "metadata": {},
   "outputs": [
    {
     "data": {
      "text/plain": [
       "{3, 4.5, 6, False, 'cat', 'house'}"
      ]
     },
     "execution_count": 29,
     "metadata": {},
     "output_type": "execute_result"
    }
   ],
   "source": [
    "mySet.add(\"house\")\n",
    "mySet"
   ]
  },
  {
   "cell_type": "code",
   "execution_count": 30,
   "metadata": {},
   "outputs": [
    {
     "data": {
      "text/plain": [
       "{3, 6, False, 'cat', 'house'}"
      ]
     },
     "execution_count": 30,
     "metadata": {},
     "output_type": "execute_result"
    }
   ],
   "source": [
    "mySet.remove(4.5)\n",
    "mySet"
   ]
  },
  {
   "cell_type": "code",
   "execution_count": 31,
   "metadata": {},
   "outputs": [
    {
     "data": {
      "text/plain": [
       "False"
      ]
     },
     "execution_count": 31,
     "metadata": {},
     "output_type": "execute_result"
    }
   ],
   "source": [
    "mySet.pop()"
   ]
  },
  {
   "cell_type": "code",
   "execution_count": 32,
   "metadata": {},
   "outputs": [
    {
     "data": {
      "text/plain": [
       "{3, 6, 'cat', 'house'}"
      ]
     },
     "execution_count": 32,
     "metadata": {},
     "output_type": "execute_result"
    }
   ],
   "source": [
    "mySet"
   ]
  },
  {
   "cell_type": "code",
   "execution_count": 33,
   "metadata": {},
   "outputs": [
    {
     "data": {
      "text/plain": [
       "set()"
      ]
     },
     "execution_count": 33,
     "metadata": {},
     "output_type": "execute_result"
    }
   ],
   "source": [
    "mySet.clear()\n",
    "mySet"
   ]
  },
  {
   "cell_type": "markdown",
   "metadata": {},
   "source": [
    "<center>表6. Python 中字典的运算符</center>\n",
    "\n",
    "运算符|用法|解释\n",
    "-|-|-\n",
    "[]|mydict[‘key’]|返回 key 这个键所对应的值,如果 key 不存在,则会报错\n",
    "In|key in mydict|如果 key 这个键在字典中,那么就返回 True,如果不在,就返回 False\n",
    "del|del mydict[‘key’]|在字典中移除 key 这个键所对应的键值对"
   ]
  },
  {
   "cell_type": "markdown",
   "metadata": {},
   "source": [
    "<center>表7. Python 中字典的函数</center>\n",
    "\n",
    "函数名|使用方法|解释\n",
    "-|-|-\n",
    "keys|adict.keys()|以列表的形式返回 adict 中的所有键(key)\n",
    "values|adict.values()|以列表的形式返回 adict 中的所有值(value)\n",
    "items|adict.items()|以列表的形式返回 adict 中的所有键值对,列表的每个元素是包含键和值的元组\n",
    "get|adict.get(key)|返回 key 所对应的值,如果 key 不存在,就返回 None\n",
    "get|adict.get(key,alt)|返回 key 所对应的值,如果 key 不存在,就返回 alt"
   ]
  }
 ],
 "metadata": {
  "kernelspec": {
   "display_name": "Python 3",
   "language": "python",
   "name": "python3"
  },
  "language_info": {
   "codemirror_mode": {
    "name": "ipython",
    "version": 3
   },
   "file_extension": ".py",
   "mimetype": "text/x-python",
   "name": "python",
   "nbconvert_exporter": "python",
   "pygments_lexer": "ipython3",
   "version": "3.6.5"
  }
 },
 "nbformat": 4,
 "nbformat_minor": 2
}
