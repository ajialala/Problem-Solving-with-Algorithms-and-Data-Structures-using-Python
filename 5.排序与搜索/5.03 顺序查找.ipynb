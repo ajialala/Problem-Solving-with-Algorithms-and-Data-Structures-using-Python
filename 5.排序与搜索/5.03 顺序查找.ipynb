{
 "cells": [
  {
   "cell_type": "markdown",
   "metadata": {},
   "source": [
    "当数据项被存储在集合中时，如存储在一个列表中，我们说，它们有一个线性或顺序的关系。每一个数据项存储在一个与其他数据项相对的位置。在Python列表，这些相对位置所对应的是单个项的索引值。由于这些索引值是有一定次序的，可以依次访问它们。这一过程产生了第一个搜索方法，顺序搜索。\n",
    "\n",
    "图1. 显示了顺序搜索的工作原理。从列表中的第一项开始，我们按照初始顺序从一项移到下一项，直到我们发现正在寻找的数据项或者遍历所有数据项。如果我们遍历了所有数据项，我们就会发现我们正在寻找的数据项是不存在的。\n",
    "![图1. 整数列表的顺序搜索](pic/5.03.1.png)\n",
    "<center>图1. 整数列表的顺序搜索</center>"
   ]
  },
  {
   "cell_type": "markdown",
   "metadata": {},
   "source": [
    "这个Python算法的实现如下面代码所示。函数的参数为一个列表和一个我们正在寻找的数据项，并且返回一个布尔值，判断它是否存在。布尔变量found初始化为False，如果我们发现我们所要找的数据项在列表中，就将布尔变量赋为True。"
   ]
  },
  {
   "cell_type": "code",
   "execution_count": 1,
   "metadata": {},
   "outputs": [
    {
     "name": "stdout",
     "output_type": "stream",
     "text": [
      "False\n",
      "True\n"
     ]
    }
   ],
   "source": [
    "def sequentialSearch(alist, item):\n",
    "        pos = 0\n",
    "        found = False\n",
    "\n",
    "        while pos < len(alist) and not found:\n",
    "            if alist[pos] == item:\n",
    "                found = True\n",
    "            else:\n",
    "                pos = pos+1\n",
    "\n",
    "        return found\n",
    "\n",
    "testlist = [1, 2, 32, 8, 17, 19, 42, 13, 0]\n",
    "print(sequentialSearch(testlist, 3))\n",
    "print(sequentialSearch(testlist, 13))"
   ]
  },
  {
   "cell_type": "markdown",
   "metadata": {},
   "source": [
    "### 5.03.1 顺序查找分析\n",
    "为了分析搜索算法，我们需要定一个基本计算单位。这个基本计算单位通常是为了解决一个问题我们必须重复执行的一些简单步骤。对于搜索，计算比较操作数是我们必须重复执行的一些简单步骤。每次对比都有可能发现我们正在寻找的数据项，也有可能没发现。此外，我们再作一个猜想。数据列表不以任何方式排序。数据项是被随机放置到列表中。换句话说，我们寻找的目标项可能在任意位置，对列表的每一个位置，我们找到它的概率是相等的。\n",
    "\n",
    "如果目标项不在列表内，唯一的办法就是比对现有的每一个数据项。如果这里有n个数据项，那么顺序搜索就要求n次比对去发现目标项不在列表里面。在列表包含目标项的情况下，算法分析就不是这么的直接。这儿通常有三种不同的情况发生。最好的情况就是我们要找的数据项就在我们第一次比对的位置(列表的开头)。我们仅仅需要一次比对。最坏的情况是直到最后一次比对(第n次比对)，我们才能发现目标项。\n",
    "\n",
    "平均情况怎么样呢？在平均情况下，我们大约会在列表中央发现目标项，就是说，我们需要比对n/2的数据项。然而，随着n较大，不管系数是什么，在我们的近似中都变得无关紧要了，所以顺序搜索的复杂度是O(n)。表1总结了以上所说的这些可能的结果。\n",
    "\n",
    "<center>表1. 无序表顺序搜索的比对</center>\n",
    "\n",
    "Case |Best Case |Worst Case|Average Case\n",
    "-|-|-|-\n",
    "item is present |1 |n |n/2\n",
    "item is not present |n|n|n"
   ]
  },
  {
   "cell_type": "markdown",
   "metadata": {},
   "source": [
    "我们早先假定集合里面的数据项都是被打乱放入的，这样，数据之间便没有相对顺序。如果在某些情况下，数据项是有序的，顺序搜索又会发生什么？我们能让我们的搜索技术更高效吗？\n",
    "\n",
    "假定列表是按照一个递增的顺序构建的(从小到大)。如果我们要找的数据项在列表里面，它在n个位置中的任意位置的机会如以前一样是相等的。我们依然将经过相同的比较次序去发现目标项。然而，如果数据项不在列表里面，将会有一个明显的优势。图2. 就展示了搜索50这个数据的算法流程。注意，在到54之前一直是执行比对操作的。然而，在这一点上，我们知道了一些另外的东西。因为这个列表是被排好序的，所以在54之前找不到，那么比54大的数据项肯定不\n",
    "能满足条件。在这种情况下，算法并没有要求继续去遍历所有数据项来表明目标项没有被找到。它可以立刻停止。下面代码展示了经过此次变化后的顺序搜索。\n",
    "![图2. 一个整数有序表的顺序搜索](pic/5.03.2.png)\n",
    "<center>图2. 一个整数有序表的顺序搜索</center>"
   ]
  },
  {
   "cell_type": "code",
   "execution_count": 2,
   "metadata": {},
   "outputs": [
    {
     "name": "stdout",
     "output_type": "stream",
     "text": [
      "False\n",
      "True\n"
     ]
    }
   ],
   "source": [
    "def orderedSequentialSearch(alist, item):\n",
    "        pos = 0\n",
    "        found = False\n",
    "        stop = False\n",
    "        while pos < len(alist) and not found and not stop:\n",
    "            if alist[pos] == item:\n",
    "                found = True\n",
    "            else:\n",
    "                if alist[pos] > item:\n",
    "                    stop = True\n",
    "                else:\n",
    "                    pos = pos+1\n",
    "\n",
    "        return found\n",
    "\n",
    "testlist = [0, 1, 2, 8, 13, 17, 19, 32, 42,]\n",
    "print(orderedSequentialSearch(testlist, 3))\n",
    "print(orderedSequentialSearch(testlist, 13))"
   ]
  },
  {
   "cell_type": "markdown",
   "metadata": {},
   "source": [
    "表2. 总结了以上所说的这些可能的结果。注意，当我们可以发现项不在列表时，最好结果只需要看一个数据项。平均一下，通过遍历n/2的数据项，我们将知道目标项是否在列表中。\n",
    "\n",
    "<center>表2. 有序表顺序搜索的比较</center>\n",
    "\n",
    "Case |Best Case |Worst Case|Average Case\n",
    "-|-|-|-\n",
    "item is present |1 |n |n/2\n",
    "item is not present |1|n|n/2"
   ]
  }
 ],
 "metadata": {
  "kernelspec": {
   "display_name": "Python 3",
   "language": "python",
   "name": "python3"
  },
  "language_info": {
   "codemirror_mode": {
    "name": "ipython",
    "version": 3
   },
   "file_extension": ".py",
   "mimetype": "text/x-python",
   "name": "python",
   "nbconvert_exporter": "python",
   "pygments_lexer": "ipython3",
   "version": "3.6.5"
  }
 },
 "nbformat": 4,
 "nbformat_minor": 2
}
