{
 "cells": [
  {
   "cell_type": "markdown",
   "metadata": {},
   "source": [
    "希尔排序有时又叫做“缩小间隔排序”，它以插入排序为基础，将原来要排序的列表划分为一些子列表，再对每一个子列表执行插入排序，从而实现对插入排序性能的改进。划分子列的特定方法是希尔排序的关键。我们并不是将原始列表分成含有连续元素的子列，而是确定一个划分列表的增量“i”，这个i更准确地说，是划分的间隔。然后把每间隔为i的所有元素选出来组成子列表。\n",
    "\n",
    "如图1，这里有一个含九个元素的列表。如果我们以3为间隔来划分，就会分为三个子列表，每一个可以执行插入排序。这三次插入排序完成之后，我们得到了如图2. 所示的列表。虽然这个列表还没有完全排好序，但有趣的是，经过我们对子列的排序之后，列表中的每个元素更加靠近它最终应该处在的位置。\n",
    "![图1. 对每个子列排序后的情况](pic/5.10.1.png)\n",
    "<center>图1. 以3为间隔的希尔排序 </center>\n",
    "![图2. 对每个子列排序后的情况](pic/5.10.2.png)\n",
    "<center>图2. 以3为间隔的希尔排序 </center>"
   ]
  },
  {
   "cell_type": "markdown",
   "metadata": {},
   "source": [
    "图3. 为我们展示了最终以1为间隔进行插入排序，即标准的插入排序的过程。注意到，通过对前面子列进行排序之后，我们减少了将原始列表排序时需要比对和移动的次数。在这个例子中，我们仅需要再进行四次移动就可以完成排序。\n",
    "![图3. 最后以1为间隔的插入排序](pic/5.10.3.png)\n",
    "<center>图3. 最后以1为间隔的插入排序 </center>\n",
    "![图4. 以4为间隔的第一组子列表](pic/5.10.4.png)\n",
    "<center>图4. 以4为间隔的第一组子列表 </center>"
   ]
  },
  {
   "cell_type": "markdown",
   "metadata": {},
   "source": [
    "之前我们提到过，特定选取划分间隔的方法是希尔排序的独特之处。下面代码中的函数使用了一组不同的间隔。在这个例子中，我们从$\\frac {n}{2}$个子列表开始排序；下一步排$\\frac {n}{4}$个子列表。最终，整个数列用基本的插入排序排好。图4. 显示了我们的例子中用4个间隔的第一组子列表(可能有四种情况)。下面对希尔排序函数的调用会显示出以不同间隔部分排序后的列表，最后一次排序间隔为1。"
   ]
  },
  {
   "cell_type": "code",
   "execution_count": 1,
   "metadata": {},
   "outputs": [
    {
     "name": "stdout",
     "output_type": "stream",
     "text": [
      "After increments of size 4 The list is [20, 26, 44, 17, 54, 31, 93, 55, 77]\n",
      "After increments of size 2 The list is [20, 17, 44, 26, 54, 31, 77, 55, 93]\n",
      "After increments of size 1 The list is [17, 20, 26, 31, 44, 54, 55, 77, 93]\n",
      "[17, 20, 26, 31, 44, 54, 55, 77, 93]\n"
     ]
    }
   ],
   "source": [
    "def shellSort(alist):\n",
    "    sublistcount = len(alist)//2\n",
    "    while sublistcount > 0:\n",
    "\n",
    "        for startposition in range(sublistcount):\n",
    "            gapInsertionSort(alist,startposition,sublistcount)\n",
    "\n",
    "        print(\"After increments of size\",sublistcount,\n",
    "                                   \"The list is\",alist)\n",
    "\n",
    "        sublistcount = sublistcount // 2\n",
    "\n",
    "def gapInsertionSort(alist,start,gap):\n",
    "    for i in range(start+gap,len(alist),gap):\n",
    "\n",
    "        currentvalue = alist[i]\n",
    "        position = i\n",
    "\n",
    "        while position>=gap and alist[position-gap]>currentvalue:\n",
    "            alist[position]=alist[position-gap]\n",
    "            position = position-gap\n",
    "\n",
    "        alist[position]=currentvalue\n",
    "\n",
    "alist = [54,26,93,17,77,31,44,55,20]\n",
    "shellSort(alist)\n",
    "print(alist)"
   ]
  },
  {
   "cell_type": "markdown",
   "metadata": {},
   "source": [
    "乍一看，你可能会觉得希尔排序不会比插入排序要好，因为它最后一步执行了一次完整的插入排序。但事实上，最后的一次排序并不需要很多次的比对和移动，因为正如上面所讨论的，这个列表已经在之前的对子列的插入排序中实现了部分排序。换句话说，每个步骤使得这个列表与原来相比更趋于有序状态。这使得最后的排序非常高效。\n",
    "\n",
    "对希尔排序的综合算法分析超出我们的讨论范围，基于对该算法的描述，我们可以说它的时间复杂度大致介于$O(n)$和$O(n^2)$之间。如果使用上面代码时，它的时间复杂度为$O(n^2)$。通过改变间隔的大小，比如以$2^k-1$(1,3,5,7,15,31等等)为间隔，希尔排序的时间复杂度可以达到$O(n^{\\frac{3}{2}})$。"
   ]
  }
 ],
 "metadata": {
  "kernelspec": {
   "display_name": "Python 3",
   "language": "python",
   "name": "python3"
  },
  "language_info": {
   "codemirror_mode": {
    "name": "ipython",
    "version": 3
   },
   "file_extension": ".py",
   "mimetype": "text/x-python",
   "name": "python",
   "nbconvert_exporter": "python",
   "pygments_lexer": "ipython3",
   "version": "3.6.5"
  }
 },
 "nbformat": 4,
 "nbformat_minor": 2
}
