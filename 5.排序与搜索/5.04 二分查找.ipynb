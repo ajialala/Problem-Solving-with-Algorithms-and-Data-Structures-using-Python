{
 "cells": [
  {
   "cell_type": "markdown",
   "metadata": {},
   "source": [
    "如果所采用的比较方法更聪明一些，我们可以更好地利用有序表的优势。在顺序搜索中，当我们和第一项相比较时，如果第一个数据项不是我们要找的项，最多还有n-1项待比对。二分搜索将从中间项开始检测，而不是按顺序搜索列表。如果查找项与我们刚搜索到的项匹配，则搜索结束。如果不匹配，我们可以利用列表的有序性来排除掉一半的剩余项。如果查找项比中间项大，我们可以把列表中较小的那一半全部和中间项可以从接下来的考察中排除了。因为如果查找\n",
    "项在列表中，那它一定在较大的那一半。\n",
    "\n",
    "接下来，我们可以在较大的一半中重复这个过程。从中间项开始，拿它和查找项作比较。再来一次，我们要么找到了查找项，要么从中间分割列表，并因此排除掉另一大部分我们的搜索区域。图1. 展示了这种算法如何快速找到值为54的项。完整的过程在下面代码中展示了出来。\n",
    "![图1. 二分搜索一个整数有序表](pic/5.04.1.png)\n",
    "<center>图1. 二分搜索一个整数有序表</center>"
   ]
  },
  {
   "cell_type": "code",
   "execution_count": 1,
   "metadata": {},
   "outputs": [
    {
     "name": "stdout",
     "output_type": "stream",
     "text": [
      "False\n",
      "True\n"
     ]
    }
   ],
   "source": [
    "def binarySearch(alist, item):\n",
    "        first = 0\n",
    "        last = len(alist)-1\n",
    "        found = False\n",
    "\n",
    "        while first<=last and not found:\n",
    "            midpoint = (first + last)//2\n",
    "            if alist[midpoint] == item:\n",
    "                found = True\n",
    "            else:\n",
    "                if item < alist[midpoint]:\n",
    "                    last = midpoint-1\n",
    "                else:\n",
    "                    first = midpoint+1\n",
    "\n",
    "        return found\n",
    "\n",
    "testlist = [0, 1, 2, 8, 13, 17, 19, 32, 42,]\n",
    "print(binarySearch(testlist, 3))\n",
    "print(binarySearch(testlist, 13))"
   ]
  },
  {
   "cell_type": "markdown",
   "metadata": {},
   "source": [
    "在我们继续分析之前，我们应该了解到这个算法是分而治之策略的一个很好的例子。分而治之意味着我们把一个问题分成更小的规模，用一些方法解决这些更小规模问题，然后重组整个问题来得到结果。当我们对一个列表执行二分搜索时，我们首先选择中间项。如果搜索项比中间项小，我们可以在原来列表的左半部分执行二分搜索，同样地，如果搜索项更大，我们可以在右半部分执行二分搜索。无论怎样，这是一个对较小的列表实现二分搜索的递归调用。下面代码展示了这种递归。"
   ]
  },
  {
   "cell_type": "code",
   "execution_count": 2,
   "metadata": {},
   "outputs": [
    {
     "name": "stdout",
     "output_type": "stream",
     "text": [
      "False\n",
      "True\n"
     ]
    }
   ],
   "source": [
    "def binarySearch(alist, item):\n",
    "        if len(alist) == 0:\n",
    "            return False\n",
    "        else:\n",
    "            midpoint = len(alist)//2\n",
    "            if alist[midpoint]==item:\n",
    "                return True\n",
    "            else:\n",
    "                if item<alist[midpoint]:\n",
    "                    return binarySearch(alist[:midpoint],item)\n",
    "                else:\n",
    "                    return binarySearch(alist[midpoint+1:],item)\n",
    "\n",
    "testlist = [0, 1, 2, 8, 13, 17, 19, 32, 42,]\n",
    "print(binarySearch(testlist, 3))\n",
    "print(binarySearch(testlist, 13))"
   ]
  },
  {
   "cell_type": "markdown",
   "metadata": {},
   "source": [
    "### 5.04.1 二分查找分析\n",
    "为了分析二分查找算法，我们需要记住，每个比较消除了大约一半的剩余项。该算法检查整个列表的最大比较次数是多少呢？如果我们总共有n项，大约 n/2 项将在第一次比较后留下。第二次比较后，会有约 n/4。 然后 n/8，n/16，等等。 我们可以拆分列表多少次？ 表1. 帮助我们找到答案。\n",
    "<center>表1. 二分搜索的表格式分析</center>\n",
    "\n",
    "比较次数|留下的项数\n",
    "-|-\n",
    "1| $\\frac {n}{2}$\n",
    "2| $\\frac {n}{4}$\n",
    "3| $\\frac {n}{8}$\n",
    "......| ......\n",
    "I| $\\frac {n}{2^i}$"
   ]
  },
  {
   "cell_type": "markdown",
   "metadata": {},
   "source": [
    "当我们分割的次数足够多时，我们结束于一个只有一项的列表，无论它是不是我们要找的那一项，总之，我们完成了遍历。比对的次数需要通过解方程$\\frac {n}{2^i}=1$得到。解得$i=log(n)$。最大比对次数是关于列表中项数的对数。因此，二分搜索的复杂度是$O(log(n))$。我们还需要处理一个在分析中所附加的消耗。在上面的递归处理演示中，递归调用binarySearch(alist[:midpoint],item) 使用了切片操作符来创建左半部分列表，然后传递到下一个\n",
    "调用(右半部分也一样)。我们上面所做的分析假定切片操作消耗的是常数时间。然而，我们知道Python的切片操作实际上是$O(k)$。这意味着二分搜索使用切片将不会运行严格的对数时间。幸运的是这可以通过列表的开始和结束索引值补救。这个索引可以像我们在表1. 中精心设计的那样。\n",
    "\n",
    "即使二分搜索通常比顺序搜索要好，值得注意的是，对于较小的n值，排序所附加的消耗可能是不值得的。事实上，我们应当一直考虑进行额外的排序工作来得到搜索优势是否是有效开销。如果我们可以排序一次然后搜索许多次，排序开销并不那么显著。然而，对于大列表，哪怕是一次排序的消耗也可能是巨大的，从一开始简单执行顺序搜索也许是最好的选择。"
   ]
  }
 ],
 "metadata": {
  "kernelspec": {
   "display_name": "Python 3",
   "language": "python",
   "name": "python3"
  },
  "language_info": {
   "codemirror_mode": {
    "name": "ipython",
    "version": 3
   },
   "file_extension": ".py",
   "mimetype": "text/x-python",
   "name": "python",
   "nbconvert_exporter": "python",
   "pygments_lexer": "ipython3",
   "version": "3.6.5"
  }
 },
 "nbformat": 4,
 "nbformat_minor": 2
}
