{
 "cells": [
  {
   "cell_type": "markdown",
   "metadata": {},
   "source": [
    "快速排序用了和归并排序一样分而治之的方法来获得同样的优势，但同时不需要使用额外的存储空间。经过权衡之后，我们发现列表不分离成两半是可能的，当这种情况发生的时候，我们可以看到操作减少了。\n",
    "\n",
    "快速排序首先选择一个中值。虽然有很多不同的方法来选择这个数值，我们将会简单地选择列表里的第一项。中值的作用在于协助拆分这个列表。中值在最后排序好的列表里的实际位置（这个位置我们叫做分割点）是用来把列表变成两个部分来随后分别调用快速排序函数的。\n",
    "\n",
    "图1. 展示了54将被用来作为我们的第一个中值。由于我们已经看过这个例子很多遍了，我们知道54最终将占据31的位置。随后，分区过程将要开始。它将找到分割点的位置并且同时将移动数据到列表中的合适位置(比中值小的数放在左边，大的放在右边)。分区过程由设置两个位置标记开始——让我们叫它们左标记和右标记——在列表的第一项和最后一项。分区过程的目标是把相对于中值在错误的一边的数据放到正确的一边，同时找到分割点。图2. 展示了这个过程，同时我们把54放到了正确的位置。\n",
    "![图1. 54用来作第一个中值](pic/5.12.1.png)\n",
    "<center>图1. 54用来作第一个中值</center>\n",
    "![图2. 分区过程](pic/5.12.2.png)\n",
    "<center>图2. 分区过程</center>"
   ]
  },
  {
   "cell_type": "markdown",
   "metadata": {},
   "source": [
    "我们是这样开始的：我们不断把左标记向右移动直到它指向了一个比中值更大的数字。我们然后把右标记向左移动直到我们找到一个比中值更小的数字。在这个时候我们就找到了两个相对于最终的分割点在错误的位置的元素。在我们的例子中，就是93和20。现在我们可以交换这两个元素，然后重复这个步骤了。\n",
    "\n",
    "在右标记变得比左标记小的时候，我们停止，此时右标记在的位置就是分割点在的位置。而中值就可以和分割点的内容互换位置而被放置在正确的位置上了。另外，每个分割点左边的元素都比中值小，每个右边的都比它大了。这个列表就可以在分割点被分成两半然后快速排序可以在这两个部分被分别调用了。如图3. 所示。\n",
    "![图3. 分区完成](pic/5.12.3.png)\n",
    "<center>图3. 分区完成</center>"
   ]
  },
  {
   "cell_type": "markdown",
   "metadata": {},
   "source": [
    "在源代码中所示的快速排序函数中，调用了递归函数，quickSortHelper。quickSortHelper从与归并排序相同的最基本的情况开始。如果列表长度小于或者等于1，那么它已经排过序。如果列表的长度更大，那么列表可以被分割并进行递归排序。分裂函数的实现过程在前面已经描述。"
   ]
  },
  {
   "cell_type": "code",
   "execution_count": 1,
   "metadata": {},
   "outputs": [
    {
     "name": "stdout",
     "output_type": "stream",
     "text": [
      "[17, 20, 26, 31, 44, 54, 55, 77, 93]\n"
     ]
    }
   ],
   "source": [
    "def quickSort(alist):\n",
    "    quickSortHelper(alist,0,len(alist)-1)\n",
    "\n",
    "def quickSortHelper(alist,first,last):\n",
    "    if first<last:\n",
    "\n",
    "        splitpoint = partition(alist,first,last)\n",
    "\n",
    "        quickSortHelper(alist,first,splitpoint-1)\n",
    "        quickSortHelper(alist,splitpoint+1,last)\n",
    "\n",
    "\n",
    "def partition(alist,first,last):\n",
    "    pivotvalue = alist[first]\n",
    "\n",
    "    leftmark = first+1\n",
    "    rightmark = last\n",
    "\n",
    "    done = False\n",
    "    while not done:\n",
    "\n",
    "        while leftmark <= rightmark and alist[leftmark] <= pivotvalue:\n",
    "            leftmark = leftmark + 1\n",
    "\n",
    "        while alist[rightmark] >= pivotvalue and rightmark >= leftmark:\n",
    "            rightmark = rightmark -1\n",
    "\n",
    "        if rightmark < leftmark:\n",
    "            done = True\n",
    "        else:\n",
    "            temp = alist[leftmark]\n",
    "            alist[leftmark] = alist[rightmark]\n",
    "            alist[rightmark] = temp\n",
    "\n",
    "    temp = alist[first]\n",
    "    alist[first] = alist[rightmark]\n",
    "    alist[rightmark] = temp\n",
    "\n",
    "\n",
    "    return rightmark\n",
    "\n",
    "alist = [54,26,93,17,77,31,44,55,20]\n",
    "quickSort(alist)\n",
    "print(alist)"
   ]
  },
  {
   "cell_type": "markdown",
   "metadata": {},
   "source": [
    "来分析快速排序函数，注意一个长度为n的列表，如果每次分裂都发生在列表的中央，那么将会重复logn次分裂。为了找到分割点，n个项目中的每一个都需要和中值进行对比。那么，综合起来是nlogn。此外，快速排序不需要像在归并排序时所需的额外内存。\n",
    "\n",
    "不幸的是，在最坏的情况下，分割点可能不在中间，可以是非常偏左或偏右，留下一个很不均匀的分裂。在最坏的情况下，给一个长度为n的列表排序，分成了给一个长度为0的列表排序和给一个长度为n-1的列表排序。然后，给一个长度为n-1的列表排序，分成了给一个长度为0的列表排序和给一个长度为n-2的列表排序，以此类推。最终，用以上所述的递归过程，成了时间复杂度为O(n^2)的排序。\n",
    "\n",
    "我们之前提到过，有多种不同的方法用来选择中值。特别的是，我们可以通过使用一种名为“三点取样”的方法，来尝试着降低不均匀分割的可能性。为了选择中值，我们要考虑列表中第一个、中间一个以及最后一个三个元素。在我们的例子中，它们分别是54，77和20。现在选取中间值(在我们的例子中是54)，并且使用它作为中值(当然，这和我们最初使用的中值相同)。这种方法在于当列表的第一项不趋于处于列表中间位置时，三个值的中间值将会是一个更好的中值选择。当最初的列表已经经过一定程度的排序时，这种方法就显得尤其有用。"
   ]
  }
 ],
 "metadata": {
  "kernelspec": {
   "display_name": "Python 3",
   "language": "python",
   "name": "python3"
  },
  "language_info": {
   "codemirror_mode": {
    "name": "ipython",
    "version": 3
   },
   "file_extension": ".py",
   "mimetype": "text/x-python",
   "name": "python",
   "nbconvert_exporter": "python",
   "pygments_lexer": "ipython3",
   "version": "3.6.5"
  }
 },
 "nbformat": 4,
 "nbformat_minor": 2
}
