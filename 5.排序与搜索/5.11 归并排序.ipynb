{
 "cells": [
  {
   "cell_type": "markdown",
   "metadata": {},
   "source": [
    "我们现在把注意力转移到用分而治之的策略来改进排序算法的表现。我们要学的第一种算法就是归并排序。归并排序是一种递归算法，它持续地将一个列表分成两半。如果列表是空的或者只有一个元素，那么根据定义，它就被排序好了(最基本的情况)。如果列表里的元素超过一个，我们就把列表拆分，然后分别对两个部分调用递归排序。一旦这两个部分被排序好了，那么这种被叫做归并的最基本的操作，就被执行了。归并是这样一个过程：把两个排序好了的列表结合在一起组合成一个单一的，有序的新列表。图1. 就展示了我们熟悉的作为例子的列表如何被归并排序算法拆分，而图2. 则展示了这些简单的列表被排序好并被重新归并回去的过程。\n",
    "![图1. 归并排序算法拆分](pic/5.11.1.png)\n",
    "<center>图1. 归并排序算法拆分</center>\n",
    "![图2. 排序与归并过程](pic/5.11.2.png)\n",
    "<center>图2. 排序与归并过程</center>"
   ]
  },
  {
   "cell_type": "code",
   "execution_count": 1,
   "metadata": {},
   "outputs": [
    {
     "name": "stdout",
     "output_type": "stream",
     "text": [
      "Splitting  [54, 26, 93, 17, 77, 31, 44, 55, 20]\n",
      "Splitting  [54, 26, 93, 17]\n",
      "Splitting  [54, 26]\n",
      "Splitting  [54]\n",
      "Merging  [54]\n",
      "Splitting  [26]\n",
      "Merging  [26]\n",
      "Merging  [26, 54]\n",
      "Splitting  [93, 17]\n",
      "Splitting  [93]\n",
      "Merging  [93]\n",
      "Splitting  [17]\n",
      "Merging  [17]\n",
      "Merging  [17, 93]\n",
      "Merging  [17, 26, 54, 93]\n",
      "Splitting  [77, 31, 44, 55, 20]\n",
      "Splitting  [77, 31]\n",
      "Splitting  [77]\n",
      "Merging  [77]\n",
      "Splitting  [31]\n",
      "Merging  [31]\n",
      "Merging  [31, 77]\n",
      "Splitting  [44, 55, 20]\n",
      "Splitting  [44]\n",
      "Merging  [44]\n",
      "Splitting  [55, 20]\n",
      "Splitting  [55]\n",
      "Merging  [55]\n",
      "Splitting  [20]\n",
      "Merging  [20]\n",
      "Merging  [20, 55]\n",
      "Merging  [20, 44, 55]\n",
      "Merging  [20, 31, 44, 55, 77]\n",
      "Merging  [17, 20, 26, 31, 44, 54, 55, 77, 93]\n",
      "[17, 20, 26, 31, 44, 54, 55, 77, 93]\n"
     ]
    }
   ],
   "source": [
    "def mergeSort(alist):\n",
    "    print(\"Splitting \",alist)\n",
    "    if len(alist)>1:\n",
    "        mid = len(alist)//2\n",
    "        lefthalf = alist[:mid]\n",
    "        righthalf = alist[mid:]\n",
    "\n",
    "        mergeSort(lefthalf)\n",
    "        mergeSort(righthalf)\n",
    "\n",
    "        i=0\n",
    "        j=0\n",
    "        k=0\n",
    "        while i < len(lefthalf) and j < len(righthalf):\n",
    "            if lefthalf[i] < righthalf[j]:\n",
    "                alist[k]=lefthalf[i]\n",
    "                i=i+1\n",
    "            else:\n",
    "                alist[k]=righthalf[j]\n",
    "                j=j+1\n",
    "            k=k+1\n",
    "\n",
    "        while i < len(lefthalf):\n",
    "            alist[k]=lefthalf[i]\n",
    "            i=i+1\n",
    "            k=k+1\n",
    "\n",
    "        while j < len(righthalf):\n",
    "            alist[k]=righthalf[j]\n",
    "            j=j+1\n",
    "            k=k+1\n",
    "    print(\"Merging \",alist)\n",
    "\n",
    "alist = [54,26,93,17,77,31,44,55,20]\n",
    "mergeSort(alist)\n",
    "print(alist)"
   ]
  },
  {
   "cell_type": "markdown",
   "metadata": {},
   "source": [
    "在源代码中展示的归并排序函数开始于询问基本条件问题。如果列表的长度小于或等于一，那么我们已经有了一个排好序的列表并不需要做任何更多的过程了。如果不是，即列表长度大于一，那么我们用Python的切片操作将左右两部分拆开。注意到这一点是非常重要的：列表可能不拥有偶数个项目。但是这无关紧要，因为长度的最大差别也不会超过一。\n",
    "\n",
    "一旦归并排序函数被调用处理左右两半边(8-9行)，它假定它们已经被排序完了。而剩余部分的函数(11-31行)是用来把两个小的有序列表合成一个大的有序列表的。注意归并操作是重复地把两个小的有序列表中的最小元素一一放回原列表的。\n",
    "\n",
    "归并排序函数被增加了一个打印语句(第二行)用来显示每次被调用之前被排序的列表的内容。同时也有一条打印语句(32行)用来显示归并的过程。记录显示了函数在我们的示例列表里的执行结果。显示了有44,55和20的列表并没有被平均地拆分，44被分给了第一个列表而55和20被分给了第二个。我们可以很容易地看到拆分过程是如何最终产生一个能迅速被另一些有序列表合并的列表的。\n",
    "\n",
    "为了分析归并算法，我们需要考虑它实施的两个不同步骤。第一步，列表被拆分，我们已经(在二分查找中)计算过，我们能通过log(n)的数量级的计算将长度为n的列表拆分。而第二个过程是合并。每个列表中的元素最终将被处理并被放置在排序好的列表中，所以合并操作对一个长度为n的列表需要n的数量级的操作。因此分析结果就是，拆分需要log(n)数量级的操作而每次拆分需要n数量级的操作因此最终操作的复杂度为nlog(n)。归并排序是一种O(nlog(n)) 的算法。\n",
    "\n",
    "回忆起，切片操作对于一个长度为K的切片需要K的复杂度，为了保证归并排序的复杂度为O(nlogn)，我们需要移开切片操作，这是可能的，只要我们简单地在递归的时候传入列表的开始和结束的参数就可以了。\n",
    "\n",
    "很重要的是要意识到在拆分列表时归并排序函数需要额外的空间来存放被拆分出来的两个部分。如果列表很大的话，这额外空间将是一个很重要的因素，可能使得这种排序被运用在大数据集合时出现错误。"
   ]
  }
 ],
 "metadata": {
  "kernelspec": {
   "display_name": "Python 3",
   "language": "python",
   "name": "python3"
  },
  "language_info": {
   "codemirror_mode": {
    "name": "ipython",
    "version": 3
   },
   "file_extension": ".py",
   "mimetype": "text/x-python",
   "name": "python",
   "nbconvert_exporter": "python",
   "pygments_lexer": "ipython3",
   "version": "3.6.5"
  }
 },
 "nbformat": 4,
 "nbformat_minor": 2
}
