{
 "cells": [
  {
   "cell_type": "markdown",
   "metadata": {},
   "source": [
    "插入排序的算法复杂度仍然是$O(n^{2})$，但其工作原理稍有不同。它总是保持一个位置靠前的已排好的子表，然后每一个新的数据项被“插入”到前边的子表里，排好的子表增加一项。图1. 展示了插入排序的过程。阴影区域的数据代表了程序每运行一步后排好的子表。\n",
    "![图1. 插入排序(insertionSort)](pic/5.09.1.png)\n",
    "<center>图1. 插入排序(insertionSort)</center>"
   ]
  },
  {
   "cell_type": "markdown",
   "metadata": {},
   "source": [
    "我们认为只含有一个数据项的列表是已经排好的。每排后面一个数据(从1开始到n-1)，这个的数据会和已排好子表中的数据比较。比较时，我们把之前已经排好的列表中比这个数据大的移到它的右边。当子表数据小于当前数据，或者当前数据已经和子表的所有数据比较了时，就可以在此处插入当前数据项。\n",
    "\n",
    "图2. 详细地展示了第五步排序的过程。程序运行到当前位置，已排好的子表中包含了“17,26,54,77,93”五个数据。我们想让31插入该子表中。第一次，31和93比较，93要移到31右边。同理，77和54也要移位。遇到26时，移动步骤停止，31被插入到此处。此时我们就有了一个含6个数据项的已排好的子表。\n",
    "![图2. 插入排序:第五步排序](pic/5.09.2.png)\n",
    "<center>图2. 插入排序:第五步排序</center>"
   ]
  },
  {
   "cell_type": "markdown",
   "metadata": {},
   "source": [
    "在插入排序的实现中，排n个数据仍然需要进行n-1次遍历(n-1步)。由于每个数据需要被插入到之前排好的子表中，故迭代操作要从只有一个位置的情况开始，在余下n-1个位置重复进行。程序第8行是转移操作，即把某个数据放到后一个位置，空出当前位置以待数据插入。需要注意的是，这并不是前两个排序方法里的完整的“交换”步骤。\n",
    "\n",
    "插入排序需要进行的最多的比较次数仍是从1到n-1的所有的整数之和，即复杂度为$$O(n^{2})。但是，最好的情况下，每排一个数据只需要一次比较，即列表已经排好的情况。\n",
    "\n",
    "关于“转移”与“交换”操作的考虑也很重要。通常情况下，“转移”的步骤约为“交换”步骤的1/3，因为它只有一次赋值操作。在基准测试中，插入排序将展示非常好的性能。"
   ]
  },
  {
   "cell_type": "code",
   "execution_count": 3,
   "metadata": {},
   "outputs": [
    {
     "name": "stdout",
     "output_type": "stream",
     "text": [
      "[17, 20, 26, 31, 44, 54, 55, 77, 93]\n"
     ]
    }
   ],
   "source": [
    "def insertionSort(alist):\n",
    "    for index in range(1,len(alist)):\n",
    "        currentvalue = alist[index]\n",
    "        position = index\n",
    "\n",
    "        while position>0 and alist[position-1]>currentvalue:\n",
    "            alist[position]=alist[position-1]\n",
    "            position = position-1\n",
    "\n",
    "        alist[position]=currentvalue\n",
    "\n",
    "alist = [54,26,93,17,77,31,44,55,20]\n",
    "insertionSort(alist)\n",
    "print(alist)"
   ]
  }
 ],
 "metadata": {
  "kernelspec": {
   "display_name": "Python 3",
   "language": "python",
   "name": "python3"
  },
  "language_info": {
   "codemirror_mode": {
    "name": "ipython",
    "version": 3
   },
   "file_extension": ".py",
   "mimetype": "text/x-python",
   "name": "python",
   "nbconvert_exporter": "python",
   "pygments_lexer": "ipython3",
   "version": "3.6.5"
  }
 },
 "nbformat": 4,
 "nbformat_minor": 2
}
