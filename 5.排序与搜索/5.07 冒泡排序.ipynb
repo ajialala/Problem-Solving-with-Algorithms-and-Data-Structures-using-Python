{
 "cells": [
  {
   "cell_type": "markdown",
   "metadata": {},
   "source": [
    "冒泡排序要对一个列表多次重复遍历。它要比较相邻的两项，并且交换顺序排错的项。每对列表实行一次遍历，就有一个最大项排在了正确的位置。大体上讲，列表的每一个数据项都会在其相应的位置“冒泡”。\n",
    "\n",
    "图1. 展示了冒泡排序的第一次遍历。阴影项正在比较它们是否乱序。如果在列表中有 n 个项目，则第一遍有 n-1 个项需要比较。重要的是要注意，一旦列表中的最大值是一个对的一部分，它将不断地被移动，直到遍历完成。\n",
    "![图1. 冒泡排序:第一次遍历](pic/5.07.1.png)\n",
    "<center>图1. 冒泡排序:第一次遍历</center>"
   ]
  },
  {
   "cell_type": "markdown",
   "metadata": {},
   "source": [
    "第二次遍历开始时，最大的数据项已经归位。现在还剩n-1个待排数据项，即有n-2个要比较的数据对。由于每一次遍历都会使下一个最大项归位，所需要遍历的总次数就是n-1。完成n-1次遍历之后，最小的数据项一定已经归位，此时不需要再执行其他步骤。下面代码是完成冒泡排序的函数。它以待排列表为参数，通过交换必要的数据项实现对列表的修改，完成排序。"
   ]
  },
  {
   "cell_type": "code",
   "execution_count": 1,
   "metadata": {},
   "outputs": [
    {
     "name": "stdout",
     "output_type": "stream",
     "text": [
      "[17, 20, 26, 31, 44, 54, 55, 77, 93]\n"
     ]
    }
   ],
   "source": [
    "def bubbleSort(alist):\n",
    "    for passnum in range(len(alist)-1,0,-1):\n",
    "        for i in range(passnum):\n",
    "            if alist[i]>alist[i+1]:\n",
    "                temp = alist[i]\n",
    "                alist[i] = alist[i+1]\n",
    "                alist[i+1] = temp\n",
    "\n",
    "alist = [54,26,93,17,77,31,44,55,20]\n",
    "bubbleSort(alist)\n",
    "print(alist)"
   ]
  },
  {
   "cell_type": "markdown",
   "metadata": {},
   "source": [
    "交换数据项的操作，有时也叫“交换(swap)”，Python中的交换操作与其他许多编程语言不同。通常来说，交换列表中的两项需要一个暂存位置(一个附加的储存空间)。以下这段代码可以交换列表中的第i项和第j项。如果没有暂存位置的话，其中一个值就会被覆盖。"
   ]
  },
  {
   "cell_type": "code",
   "execution_count": null,
   "metadata": {},
   "outputs": [],
   "source": [
    "temp = alist[i]\n",
    "alist[i] = alist[j]\n",
    "alist[j] = temp"
   ]
  },
  {
   "cell_type": "markdown",
   "metadata": {},
   "source": [
    "但是在Python里，可以“同时赋值”。通过“a,b=b,a”的语句就可以让两个赋值语句同时进行(如图2. )。用同时赋值的方法可以用一条语句实现交换操作。\n",
    "![图2. Python中两个值的交换](pic/5.07.2.png)\n",
    "<center>图2. Python中两个值的交换</center>\n",
    "代码1中5-7行交换第i项和第i+1项用了上面的三行代码，其实我们也可以用同时赋值来交换数据。"
   ]
  },
  {
   "cell_type": "markdown",
   "metadata": {},
   "source": [
    "下面我们来分析冒泡排序。需要注意到，不管初始列表中的数据如何排列，排一个长度为n的列表都要进行n-1次遍历。表1. 显示了每次遍历需要比较的次数。总的比较次数是从1到n-1的所有正整数的和，即$\\frac{1}{2}n^{2} - \\frac{1}{2}n$。比较复杂度为$O(n^{2})$。在最好的情况下，如果列表已经排好序，就不需进行交换；但是在最坏的情况下，每一次比较都要进行一次交换，平均下来，我们交换操作次数是比较次数的一半。\n",
    "<center>表格1. 冒泡排序每次遍历的比较次数</center>\n",
    "\n",
    "遍历次数| 比较次数\n",
    "-|-\n",
    "1|\tn−1\n",
    "2|\tn−2\n",
    "3|\tn−3\n",
    "...|\t...\n",
    "n−1|\t1"
   ]
  },
  {
   "cell_type": "markdown",
   "metadata": {},
   "source": [
    "因为冒泡排序必须要在最终位置找到之前不断交换数据项，所以它经常被认为是最低效的排序方法。这些“浪费式”的交换操作消耗了许多时间。但是，由于冒泡排序要遍历整个未排好的部分，它可以做一些大多数排序方法做不到的事。尤其是如果在整个排序过程中没有交换，我们就可断定列表已经排好。因此可改良冒泡排序，使其在已知列表排好的情况下提前结束。这就是说，如果一个列表只需要几次遍历就可排好，冒泡排序就占有优势：它可以在发现列表已排好时立刻结束。下面就是改良版冒泡排序。它通常被称作“短路冒泡排序”。"
   ]
  },
  {
   "cell_type": "code",
   "execution_count": 3,
   "metadata": {},
   "outputs": [
    {
     "name": "stdout",
     "output_type": "stream",
     "text": [
      "[20, 30, 40, 50, 60, 70, 80, 90, 100, 110]\n"
     ]
    }
   ],
   "source": [
    "def shortBubbleSort(alist):\n",
    "    exchanges = True\n",
    "    passnum = len(alist)-1\n",
    "    while passnum > 0 and exchanges:\n",
    "        exchanges = False\n",
    "        for i in range(passnum):\n",
    "            if alist[i]>alist[i+1]:\n",
    "                exchanges = True\n",
    "                temp = alist[i]\n",
    "                alist[i] = alist[i+1]\n",
    "                alist[i+1] = temp\n",
    "        passnum = passnum-1\n",
    "\n",
    "alist=[20,30,40,90,50,60,70,80,100,110]\n",
    "shortBubbleSort(alist)\n",
    "print(alist)\n"
   ]
  }
 ],
 "metadata": {
  "kernelspec": {
   "display_name": "Python 3",
   "language": "python",
   "name": "python3"
  },
  "language_info": {
   "codemirror_mode": {
    "name": "ipython",
    "version": 3
   },
   "file_extension": ".py",
   "mimetype": "text/x-python",
   "name": "python",
   "nbconvert_exporter": "python",
   "pygments_lexer": "ipython3",
   "version": "3.6.5"
  }
 },
 "nbformat": 4,
 "nbformat_minor": 2
}
