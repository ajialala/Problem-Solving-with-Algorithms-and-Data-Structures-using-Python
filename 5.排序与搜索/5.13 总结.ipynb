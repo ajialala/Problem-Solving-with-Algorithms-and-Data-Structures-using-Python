{
 "cells": [
  {
   "cell_type": "markdown",
   "metadata": {},
   "source": [
    "- 对于有序和无序列表，顺序搜索时间复杂度为 $O(n)$。\n",
    "- 在最坏的情况下，有序列表的二分查找时间复杂度是 $O(log n)$。\n",
    "- 哈希表可以提供常数级时间搜索。\n",
    "- 冒泡排序，选择排序和插入排序时间复杂度是 $O(n^2)$算法。\n",
    "- 希尔排序通过排序增量子列表来改进插入排序。它时间复杂度落在 $O(n)$ 和 $O(n^2)$ 之间。\n",
    "- 归并排序是 $O(nlog n)$，但是合并过程需要额外的空间。\n",
    "- 快速排序是 $O(nlog n)$，但如果分割点不在列表中间附近，可能会降级到$O(n^2)$ 。它不需要额外的空间。"
   ]
  }
 ],
 "metadata": {
  "kernelspec": {
   "display_name": "Python 3",
   "language": "python",
   "name": "python3"
  },
  "language_info": {
   "codemirror_mode": {
    "name": "ipython",
    "version": 3
   },
   "file_extension": ".py",
   "mimetype": "text/x-python",
   "name": "python",
   "nbconvert_exporter": "python",
   "pygments_lexer": "ipython3",
   "version": "3.6.5"
  }
 },
 "nbformat": 4,
 "nbformat_minor": 2
}
