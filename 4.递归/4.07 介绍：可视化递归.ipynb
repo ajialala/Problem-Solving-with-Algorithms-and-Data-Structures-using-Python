{
 "cells": [
  {
   "cell_type": "markdown",
   "metadata": {},
   "source": [
    "之前我们了解了一些运用递归就很容易解决的问题，然而，有时候建立一个递归的思维模型，或者是将递归函数的执行过程实现可视化是很困难的，这就导致了人们很难掌握递归。在这一节中，我们将看几个用递归画出有趣的图案的例子。当你看到这些图案的成形过程，你就会对递归的过程有更深的领悟，从而更好的理解递归。\n",
    "\n",
    "我们用来作图的工具是 Python 的海龟作图模块，其名称为 turtle。海龟作图模块是所有版本的Python 的标配，并且操作简单，具体表现也很简单。你可以创建一只海龟，然后它就可以执行前进、后退、向左转、向右转等一系列操作。你也可以控制海龟的尾巴抬起和放下。当海龟的尾巴放下来的时候，随着海龟的移动，它的尾巴就会在屏幕上留下痕迹，也就是在画图了。为了提升图案的艺术价值，你可以改变海龟尾巴(也就是画笔)的宽度，也可以改变制图时画笔的颜色。\n",
    "\n",
    "接下来我们就通过一个简单的例子，来展示一些海龟作图的基本方法。我们将会用海龟通过递归的方法来画一个螺旋线。在我们引入了 turtle 模块后，我们创建一只海龟。当一只海龟被创建后，我们也就同时创建了一个能让它在里面作图的窗口。接下来我们就来定 drawSpiral() 这个函数。这个简单函数的基本结束条件是：当我们想画的线的长度(也就是函数中的 lineLen 变量)减小到 0 或者小于 0。当线的长度大于 0 时，我们便命令海龟前进 lineLen 个单位，然后向右转 90 度，然后在这里递归，再度执行 drawSpiral()函数，但是传入一个小于 lineLen 的值作为要画的线的长度。在代码的最后，我们调用了 myWin.exitonclick() 函数，这是一个便利的小技巧，它将乌龟至于待机状态，等到你单击窗口时，页面才会清空，然后程序退出。"
   ]
  },
  {
   "cell_type": "code",
   "execution_count": 1,
   "metadata": {},
   "outputs": [],
   "source": [
    "import turtle\n",
    "\n",
    "myTurtle = turtle.Turtle()\n",
    "myWin = turtle.Screen()\n",
    "\n",
    "def drawSpiral(myTurtle, lineLen):\n",
    "    if lineLen > 0:\n",
    "        myTurtle.forward(lineLen)\n",
    "        myTurtle.right(15)\n",
    "        drawSpiral(myTurtle,lineLen-5)\n",
    "\n",
    "drawSpiral(myTurtle,100)\n",
    "myWin.exitonclick()"
   ]
  },
  {
   "cell_type": "markdown",
   "metadata": {},
   "source": [
    "这基本就是海龟作图模块中你需要知道的所有基本内容，有了这些，你就能画出一些漂亮的图案了。下一个程序中我们将来画分形树。分形(fractal)来源于数学中的一个分支，并且和递归颇有相似。分形的定义是，无论你如何放大图形，你所看到的每一个区域中的碎片形状都和原来的形状相同。在自然界中,分形的例子有大陆的海岸线、雪花、山脉,即便是树和灌木也可以算是分形的一种。正是自然界中这些广泛存在的分形现象，使得程序员们能够为动画电影制作出非常逼真的场景。我们的下一个例子就是画一颗分形树。\n",
    "\n",
    "为了搞明白如何画一棵分形树，想想如何用分形的思维方式来描述一棵树是很有用的。一定要记住我们上面所说的分形指的是那些无论如何放大都有自相似性的东西，如果用它来描述一棵树或者灌木，我们就可以说，树的每一个小分枝都有与整棵树相同的形状和特征。利用这种想法，我们就可以将树定义为一个向左右分叉的躯干，如果再引入递归的概念，反复的将其应用于整棵树，就可以理解为一颗大的树就是由这些不断左右分叉的小的树组成的。\n",
    "\n",
    "现在就让我们来把上面的这个思路翻译为 Python 代码，如下所示。如果你仔细来看，第五行和第七行实现的是递归调用，第五行是在实现海龟右转 20 度后进行的递归调用，这就是上一段中所说到的向右的分叉；然后在第七行中，海龟又进行了第二次递归调用，这一次是在向左转 40 度后执行的。海龟必须向左转 40 度的原因是它必须抵消先右转的 20 度，然后再向左转额外的 20 度才能画左边的树。此外，我们需要注意，每次我们对 tree 进行递归调用的时候，branchLen 会被减去一些量，这是为了确保递归出的分叉会越来越小。还需要注意开头第二行的 if 语句，它是对整个递归的基本结束条件的检验，当树枝短于一定长度，递归就会被终止。"
   ]
  },
  {
   "cell_type": "code",
   "execution_count": 2,
   "metadata": {},
   "outputs": [],
   "source": [
    "def tree(branchLen,t):\n",
    "    if branchLen > 5:\n",
    "        t.forward(branchLen)\n",
    "        t.right(20)\n",
    "        tree(branchLen-15,t)\n",
    "        t.left(40)\n",
    "        tree(branchLen-10,t)\n",
    "        t.right(20)\n",
    "        t.backward(branchLen)"
   ]
  },
  {
   "cell_type": "markdown",
   "metadata": {},
   "source": [
    "下面代码是这个分形树例子的完整代码，在你运行这段代码以前，请你设想一下这棵树是如何成形的，仔细研究一下那些递归调用，想想这棵树的最终会是怎样一个形状；它会是左右对称，两边同时画？还是会先画右边然后再画左边？\n",
    "\n",
    "请留心观察，树上每一个分叉点是如何对应一次递归调用的，以及这棵树是如何一路朝右画直到它最短的分支的？你可以在图1. 中看到这些。现在请你观察，直到画完整个右半部分之前，这个程序在画完一支后是如何回归树干的？你可以在图 2. 中看到这棵树的整个右半部分。然后，程序便会继续运行来画树的左半部分，然而它并不是在每次分叉的时候直接画最左边的那一支，而是像之前那样，在到达最短的那根树枝之前，先画出左半分支的整个右半部分，然后再返回画左半部分。"
   ]
  },
  {
   "cell_type": "code",
   "execution_count": null,
   "metadata": {},
   "outputs": [],
   "source": [
    "import turtle\n",
    "\n",
    "def tree(branchLen,t):\n",
    "    if branchLen > 5:\n",
    "        t.forward(branchLen)\n",
    "        t.right(20)\n",
    "        tree(branchLen-15,t)\n",
    "        t.left(40)\n",
    "        tree(branchLen-15,t)\n",
    "        t.right(20)\n",
    "        t.backward(branchLen)\n",
    "\n",
    "def main():\n",
    "    t = turtle.Turtle()\n",
    "    myWin = turtle.Screen()\n",
    "    t.left(90)\n",
    "    t.up()\n",
    "    t.backward(100)\n",
    "    t.down()\n",
    "    t.color(\"green\")\n",
    "    tree(75,t)\n",
    "    myWin.exitonclick()\n",
    "\n",
    "main()"
   ]
  },
  {
   "cell_type": "markdown",
   "metadata": {},
   "source": [
    "![图1. 分形树的起始](pic/4.07.1.png)\n",
    "<center>图1. 分形树的起始</center>\n",
    "![图2. 分形树的第二部分——右半部分](pic/4.07.2.png)\n",
    "<center>图2. 分形树的第二部分——右半部分</center>"
   ]
  }
 ],
 "metadata": {
  "kernelspec": {
   "display_name": "Python 3",
   "language": "python",
   "name": "python3"
  },
  "language_info": {
   "codemirror_mode": {
    "name": "ipython",
    "version": 3
   },
   "file_extension": ".py",
   "mimetype": "text/x-python",
   "name": "python",
   "nbconvert_exporter": "python",
   "pygments_lexer": "ipython3",
   "version": "3.6.5"
  }
 },
 "nbformat": 4,
 "nbformat_minor": 2
}
