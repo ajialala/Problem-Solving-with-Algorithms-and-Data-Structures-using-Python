{
 "cells": [
  {
   "cell_type": "markdown",
   "metadata": {},
   "source": [
    "假设你想要将一个整数转化为二进制到十六进制之间任意进制的字符串形式。例如，把整数 10转换为十进制表示的字符串“10”，或二进制表示的字符串“1010”。尽管有很多算法可以解决这个问题，包括在“栈”的章节中讨论的算法，但用递归的思想解决该问题还是非常简洁优雅的。"
   ]
  },
  {
   "cell_type": "markdown",
   "metadata": {},
   "source": [
    "下面我们将以十进制的 769 为例看一个具体的问题。假设我们有一个字符序列来对应前 10 个数字，形如 convString=“0123456789”。通过在字符串中检索，很容易将小于 10 的整数转换成对应的字符串。例如，如果数字是 9，那么字符串是 convString[9]或\"9\"。如果我们可以将数字 769 拆成三个单独的数字 7、6 和 9，然后很容易地将它转换成字符串。小于 10 的整数看起来是个不错的基本结束条件。\n",
    "\n",
    "确定进位数之后整个算法将包含 3 个部分:\n",
    "1. 将原始整数分解为一连串的单个数字。\n",
    "2. 通过在字符序列中检索将单个数字转换成字符串。\n",
    "3. 将这些单个数字的字符串连接起来,形成最终的结果。\n",
    "\n",
    "下一步就是要解决如何改变状态，使其向基本结束条件演进。既然我们正在讨论关于整数的问题，那么就让我们考虑一下什么数学运算会把一个数字分解。最有可能的运算是除法和减法。虽然减法可以实现，但我们并不清楚应该减去多少。整数的除法取余的运算给了我们一个明确的的方向。\n",
    "\n",
    "用整数的除法将 769 除以 10，我们得到 76 余 9。这给了我们两个好的结果。首先，余数是一个小于进位数的数字，通过检索，它可以直接转换成一个字符。第二，我们得到了一个小于初始数字的新数字\"76\"，它能让我们向着“找到小于进位数的单个数字”的基本结束条件演进。现在我们的任务是再将 76 转换为它的字符串形式。我们将再一次使用除法取余得运算，这样分别得到 7 和 6。最后，我们将问题简化为转换数字 7 为字符串形式，因为它满足基本结束条件“n<base,base=10”，我们可以很容易转化。我们刚才的一系列操作如图 1所示。注意，我们想要记住的数字在图示右侧的余数方框中。"
   ]
  },
  {
   "cell_type": "markdown",
   "metadata": {},
   "source": [
    "![图1. 进制基数为 10 转换整数到字符串](pic/4.05.1.png)\n",
    "<center>图1. 进制基数为 10 转换整数到字符串</center>"
   ]
  },
  {
   "cell_type": "markdown",
   "metadata": {},
   "source": [
    "以 2 到 16 之间的任何基数为参数。"
   ]
  },
  {
   "cell_type": "code",
   "execution_count": 1,
   "metadata": {},
   "outputs": [
    {
     "name": "stdout",
     "output_type": "stream",
     "text": [
      "5AD\n"
     ]
    }
   ],
   "source": [
    "def toStr(n,base):\n",
    "    convertString = \"0123456789ABCDEF\"\n",
    "    if n < base:\n",
    "        return convertString[n]\n",
    "    else:\n",
    "        return toStr(n//base,base) + convertString[n%base]\n",
    "\n",
    "print(toStr(1453,16))"
   ]
  },
  {
   "cell_type": "markdown",
   "metadata": {},
   "source": [
    "请注意，在第 3 行我们检查进位数 base，当 n 小于 base 时我们才会进行转换。当我们检测到基本结束条件时，我们会停止递归过程并且仅仅从 convertString 序列中返回字符串。在第 6 行里，我们在满足递归第二、三条定律的基础上，通过运用除法，做到了递归算法调用自身和减小问题规模这两点。让我们再次回顾这个算法，这次我们将整数 10 转换为 2 进制表示的字符串。(“1010”)。"
   ]
  },
  {
   "cell_type": "markdown",
   "metadata": {},
   "source": [
    "![图2. 转换整数 10 为字符串形式的 2 进制表示](pic/4.05.2.png)\n",
    "<center>图2. 转换整数 10 为字符串形式的 2 进制表示</center>"
   ]
  },
  {
   "cell_type": "markdown",
   "metadata": {},
   "source": [
    "图 2. 显示了我们得到了期待的结果，但是似乎数字的次序错了。该算法运行正确，因为我们在第 6 行先使用递归调用，然后添加了字符串表示的余数。如果我们反向返回 convertString 的查找结果并返回 toStr 调用，生成的字符串将会反向！但通过递归调用返回结果后再进行连接操作，我们得到了正确的结果。这应该使你想起我们在前一章中对栈的讨论。"
   ]
  }
 ],
 "metadata": {
  "kernelspec": {
   "display_name": "Python 3",
   "language": "python",
   "name": "python3"
  },
  "language_info": {
   "codemirror_mode": {
    "name": "ipython",
    "version": 3
   },
   "file_extension": ".py",
   "mimetype": "text/x-python",
   "name": "python",
   "nbconvert_exporter": "python",
   "pygments_lexer": "ipython3",
   "version": "3.6.5"
  }
 },
 "nbformat": 4,
 "nbformat_minor": 2
}
