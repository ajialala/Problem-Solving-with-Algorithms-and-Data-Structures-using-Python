{
 "cells": [
  {
   "cell_type": "markdown",
   "metadata": {},
   "source": [
    "之后我们将考虑一些用迭代法解决很困难但用递归却很简单的问题。最后我们会以一个看似能用简洁的递归解决但实际却不能的问题来作为结尾。"
   ]
  },
  {
   "cell_type": "markdown",
   "metadata": {},
   "source": [
    "汉诺塔问题是法国数学家爱德华·卢卡斯于1883年发现的。他受到一个关于印度教寺庙的传说的启发，故事中这一问题交由年轻僧侣们解决。最开始，僧侣们得到三根杆子，64个金圆盘堆叠在其中一根上，每个圆盘比其下的小一点。僧侣们的任务是将64个圆盘从一根杆上转移到另一根杆上，但有两项重要的限制，一是他们一次只能移动一个圆盘，一是不能将大圆盘放在小圆盘之上。僧侣们日以继夜地工作，每秒移动一个圆盘。 传说中，当工作完成之时寺庙就会崩塌， 世界则将不复存在。\n",
    "\n",
    "传说很有趣，但也不用为世界末日将要到来而担心。毫无差错地完成这项工作需要$2^{64}-1 = 18,446,744,073,709,551,615$次移动。如果每秒移动一次则需要$584,942,417,335$年！显然实际上会更长。\n",
    "\n",
    "图1.展示了圆盘从第一根杆移到第三根杆过程中的一个状态。我们注意到，根据规则，圆盘在每根杆上都是从大到小堆放的以保持小盘永远在大盘上面。\n",
    "![图1. 汉诺塔问题的一个例子](pic/4.10.1.png)\n",
    "<center>图1. 汉诺塔问题的一个例子</center>"
   ]
  },
  {
   "cell_type": "markdown",
   "metadata": {},
   "source": [
    "我们如何用递归解决这个问题呢？我们又如何完全解决这一类问题？基本情况又是什么？让我们从递归调用的最底端入手。假设你有一个五个圆盘组成的塔，最开始在一号杆上。如果你已经知道如何将有四个圆盘的小塔从一号杆移到二号杆，就可以很容易地将第五个圆盘移动到三号杆，然后将四个圆盘的塔从二号杆移动到三号杆。但是如果你不知道如何移动有四个圆盘的塔呢？这时又假设你知道如何将有三个圆盘的塔移到三号杆；然后你就可以将第四个圆盘移动到二号杆，然后再将位于三号杆的有三个圆盘的塔移到其上。但是如果你不知道如何移动有三个圆盘的小塔又怎么办呢？那考虑先将有两个圆盘的小塔移动到二号杆，再将第三个圆盘移动到三号杆，最后将两个圆盘的小塔移动到三号杆会如何呢？但如果你连这个也不会，该如何处理？显然你知道将单个圆盘移到三号杆十分简单甚至可以说无需思考，似乎这就是这一问题最基础的部分。\n",
    "\n",
    "下面是关于将塔经由中间杆，从起始杆移到目标杆的抽象概述：\n",
    "1. 把圆盘数减一层数的小塔经过目标杆移动到中间杆\n",
    "2. 把剩下的圆盘移动到目标杆\n",
    "3. 把圆盘数减一层数的小塔从中间杆,经过起始杆移动到目标杆\n",
    "\n",
    "只要我们一直遵循大的圆盘保持在底层的规则，我们就能用以上的三步来递归，很容易地处理任意多圆盘的问题。上述概要唯一缺少的是对基本情况的识别。最简单的汉诺塔问题是只有一个圆盘时的情况，在这种情况下，我们只需要将单个圆盘移动到它的目标杆。所以只有一个圆盘的情况是我们的基本情况。此外，上述步骤可以通过减少1、3步中小塔的高度使问题向基本情况靠近。"
   ]
  },
  {
   "cell_type": "code",
   "execution_count": 1,
   "metadata": {},
   "outputs": [],
   "source": [
    "def moveTower(height,fromPole, toPole, withPole):\n",
    "    if height >= 1:\n",
    "        moveTower(height-1,fromPole,withPole,toPole)\n",
    "        moveDisk(fromPole,toPole)\n",
    "        moveTower(height-1,withPole,toPole,fromPole)"
   ]
  },
  {
   "cell_type": "markdown",
   "metadata": {},
   "source": [
    "算法简化的关键在于两个不同的递归调用的使用，分别在第三行和第五行。第三行中，我们把起始杆上的除了最下面的圆盘全部移动到中间杆，下一行将原来在最底层的最大圆盘移动到目标杆，之后在第五行，我们将位于中间杆的圆盘移动到最大圆盘的上面。当小塔高度为0即为最简情况，在这种情况下无需继续，函数可以直接返回。要记住这种对基本情况的处理的重要之处在于moveTower的返回是moveDisk被调用的先决条件。下面展示的moveDisk函数非常简单，它所做的事情就是输出一个圆盘从一根杆移动到另一根杆的过程。如果你输入并运行 moveTower程序，将发现它能很高校地解决河内塔问题。以下程序为三个圆盘的情况的一个完整解决方案。"
   ]
  },
  {
   "cell_type": "code",
   "execution_count": 2,
   "metadata": {},
   "outputs": [],
   "source": [
    "def moveDisk(fp,tp):\n",
    "    print(\"moving disk from\",fp,\"to\",tp)"
   ]
  },
  {
   "cell_type": "markdown",
   "metadata": {},
   "source": [
    "现在在读过moveTower和moveDisk的代码后，你可能会好奇为什么我们没有一个用以精确地追\n",
    "踪哪一个圆盘在哪一个杆上的数据框。这里有一个提示：如果你要精确地记录圆盘的移动，你可以用三个栈分别对应三根杆。Python提供了栈，我们只需要调用就行了。"
   ]
  },
  {
   "cell_type": "code",
   "execution_count": 3,
   "metadata": {},
   "outputs": [
    {
     "name": "stdout",
     "output_type": "stream",
     "text": [
      "moving disk from A to B\n",
      "moving disk from A to C\n",
      "moving disk from B to C\n",
      "moving disk from A to B\n",
      "moving disk from C to A\n",
      "moving disk from C to B\n",
      "moving disk from A to B\n"
     ]
    }
   ],
   "source": [
    "moveTower(3,\"A\",\"B\",\"C\")"
   ]
  }
 ],
 "metadata": {
  "kernelspec": {
   "display_name": "Python 3",
   "language": "python",
   "name": "python3"
  },
  "language_info": {
   "codemirror_mode": {
    "name": "ipython",
    "version": 3
   },
   "file_extension": ".py",
   "mimetype": "text/x-python",
   "name": "python",
   "nbconvert_exporter": "python",
   "pygments_lexer": "ipython3",
   "version": "3.6.5"
  }
 },
 "nbformat": 4,
 "nbformat_minor": 2
}
