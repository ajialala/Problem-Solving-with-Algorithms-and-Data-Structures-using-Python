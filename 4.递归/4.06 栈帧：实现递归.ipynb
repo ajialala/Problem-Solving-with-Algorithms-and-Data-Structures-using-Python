{
 "cells": [
  {
   "cell_type": "markdown",
   "metadata": {},
   "source": [
    "我们设想一下，如果不是按上文“toStr()”那样通过递归调用将所得的单个字符连在一起输出得到结果，而是通过修改算法，以类似于递归执行时的先后顺序，把这些字符压入一个栈中来得出结果，会是如何呢？修改后的代码如下所示："
   ]
  },
  {
   "cell_type": "code",
   "execution_count": 1,
   "metadata": {},
   "outputs": [
    {
     "name": "stdout",
     "output_type": "stream",
     "text": [
      "5AD\n"
     ]
    }
   ],
   "source": [
    "from pythonds.basic.stack import Stack\n",
    "\n",
    "rStack = Stack()\n",
    "\n",
    "def toStr(n,base):\n",
    "    convertString = \"0123456789ABCDEF\"\n",
    "    while n > 0:\n",
    "        if n < base:\n",
    "            rStack.push(convertString[n])\n",
    "        else:\n",
    "            rStack.push(convertString[n % base])\n",
    "        n = n // base\n",
    "    res = \"\"\n",
    "    while not rStack.isEmpty():\n",
    "        res = res + str(rStack.pop())\n",
    "    return res\n",
    "\n",
    "print(toStr(1453,16))"
   ]
  },
  {
   "cell_type": "markdown",
   "metadata": {},
   "source": [
    "在上一节的递归算法中，当我们每次递归调用 toStr() 时，就相当于这里把一个字符压入了栈中，回到上一个例子中我们能发现当我们第四次调用 toStr()这个函数后,这里的栈就会变成如图 1.所示。现在我们只需要把栈中的元素推出栈，然后再把他们连接在一起输出就得到了最后的结果：“1010”\n",
    "![图1. 在进制转换时栈中所存字符](pic/4.06.1.png)\n",
    "<center>图1. 在进制转换时栈中所存字符</center>"
   ]
  },
  {
   "cell_type": "markdown",
   "metadata": {},
   "source": [
    "前面的例子使我们能够了解 Python 是如何执行递归函数的调用的。在 Python 中，当一个函数被调用时，系统会分配一个栈帧去处理函数中的那些局部变量。当执行完函数，并得到了一个返回值时，这个值会被留在栈顶等待被调用的函数来处理。图 2. 所表示的是4.05中图 2. 第四行得到返回值后栈的情形：\n",
    "![图2. 执行 toStr(10,2)的调用栈](pic/4.06.2.png)\n",
    "<center>图2. 执行 toStr(10,2)的调用栈</center>"
   ]
  },
  {
   "cell_type": "markdown",
   "metadata": {},
   "source": [
    "要注意的是，当调用 toStr(2//2,2) 时，会在栈顶留下一个返回值“1”，这个返回值随后会被用于toStr(2//2,2)+convertString[2%2] 中替代 toStr(2//2,2)，使语句变为”1”+convertString[2%2]，这就会导致执行后，字符串“10”会被留在栈顶。在这一点上，Python 的调用栈和我们修改后的程序中所使用的栈不同，在这个例子中，你可以认为是栈顶的返回值替代了 开始的那段代码 中累加器的作用。栈帧也给函数所能使用的变量规定了作用域，即使我们一遍又一遍的调用相同的函数，每次调用都会给函数中的局部变量产生一个新的作用域。(作用域:变量名在程序中的可用范围)"
   ]
  }
 ],
 "metadata": {
  "kernelspec": {
   "display_name": "Python 3",
   "language": "python",
   "name": "python3"
  },
  "language_info": {
   "codemirror_mode": {
    "name": "ipython",
    "version": 3
   },
   "file_extension": ".py",
   "mimetype": "text/x-python",
   "name": "python",
   "nbconvert_exporter": "python",
   "pygments_lexer": "ipython3",
   "version": "3.6.5"
  }
 },
 "nbformat": 4,
 "nbformat_minor": 2
}
