{
 "cells": [
  {
   "cell_type": "markdown",
   "metadata": {},
   "source": [
    "利用循环可以做列表元素的加法，那不用循环用递归如何做列表加法呢？递归需要把问题分解为规模非常小的子问题，列表元素加法就可以分解为两个数的加法。为了将数字列表求和的问题重新定义为对两个参数求和的问题，我们可以利用全括号的表达式来重新表示列表，就像下面这种形式:$$((((1+3)+5)+7)+9)$$我们也可以从另一个方向来加入括号:$$ (1+(3+(5+(7+9)))) $$\n",
    "我们注意到最内层的括号中是(7+9)，这是不需要任何循环或者特殊的结构就能解决的。事实上，我们可以用以下一系列简化后的式子来计算最终的加和。\n",
    "$$ \\begin{split}total = \\  (1 + (3 + (5 + (7 + 9)))) \\\\\n",
    "total = \\  (1 + (3 + (5 + 16))) \\\\\n",
    "total = \\  (1 + (3 + 21)) \\\\\n",
    "total = \\  (1 + 24) \\\\\n",
    "total = \\  25\\end{split} $$\n",
    "那么我们怎样将这个思想转化为 Python 代码呢?首先让我们从 Python 列表的角度来重新叙述这个问题。由于数字列表的和是列表中的第一个元素(numList[0])和剩下所有的元素(numList(1:))之和的和,求和问题可以归纳成以下的式子:\n",
    "$$ listSum(numList)=first(numList)+listSum(rest(numList)) $$\n",
    "在这个等式中，first 代表列表中的第一个元素，而 rest 代表的是列表中除了第一个元素以外\n",
    "的其他所有元素。此式很容易在 Python 中用代码表示出来。"
   ]
  },
  {
   "cell_type": "code",
   "execution_count": 1,
   "metadata": {},
   "outputs": [
    {
     "name": "stdout",
     "output_type": "stream",
     "text": [
      "25\n"
     ]
    }
   ],
   "source": [
    "def listsum(numList):\n",
    "    if len(numList) == 1:\n",
    "        return numList[0]\n",
    "    else:\n",
    "        return numList[0] + listsum(numList[1:])\n",
    "\n",
    "print(listsum([1,3,5,7,9]))"
   ]
  },
  {
   "cell_type": "markdown",
   "metadata": {},
   "source": [
    "在这个代码中，有一些关键点需要注意。首先，在第二行中，我们检查这个列表中是否只有一个元素。这个检查非常关键，因为它是函数能结束运行的必要条件。对一个长度为 1 的列表来说，它的和显然只是这个列表中的数，其次，在第五行中，函数调用了自身!这就是我们把后一个计算程序称为“递归”的原因。递归函数就是一种调用自身的函数。图1. 展示了对列表[1,3,5,7,9]求和的一系列递归调用和返回的过程。你可以将这一系列的递归调用看做一次次简化问题的过程。每次进行递归调用过程就是在解决一个规模更小的问题，当问题的规模达到最小时结束递归。"
   ]
  },
  {
   "cell_type": "markdown",
   "metadata": {},
   "source": [
    "![数字列表求和中的递归调用](pic/4.03.1.png)\n",
    "<center>图1. 数字列表求和中的递归调用</center>"
   ]
  },
  {
   "cell_type": "markdown",
   "metadata": {},
   "source": [
    "当问题的规模缩小到我们可以轻易解决时，我们开始把每个小规模问题的答案连接起来直到解决最初提出的问题。图2. 展示了列表求和在一系列递归调用之后的回溯过程，当子列表的和返回到最顶端的求和问题时，我们就得到了整个问题的答案。"
   ]
  },
  {
   "cell_type": "markdown",
   "metadata": {},
   "source": [
    "![数字列表求和递归函数的返回过程](pic/4.03.2.png)\n",
    "<center>图1. 数字列表求和递归函数的返回过程</center>"
   ]
  }
 ],
 "metadata": {
  "kernelspec": {
   "display_name": "Python 3",
   "language": "python",
   "name": "python3"
  },
  "language_info": {
   "codemirror_mode": {
    "name": "ipython",
    "version": 3
   },
   "file_extension": ".py",
   "mimetype": "text/x-python",
   "name": "python",
   "nbconvert_exporter": "python",
   "pygments_lexer": "ipython3",
   "version": "3.6.5"
  }
 },
 "nbformat": 4,
 "nbformat_minor": 2
}
