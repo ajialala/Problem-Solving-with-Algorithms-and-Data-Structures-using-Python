{
 "cells": [
  {
   "cell_type": "markdown",
   "metadata": {},
   "source": [
    "我们需要一个不依赖程序编程语言或者使用的机器的指标来度量程序运行时间。这种度量指标将有助于判断算法优劣，并且可以用来比较算法的具体实现。我们可以用一个叫T的函数来表示赋值语句数量。变量n一般指“问题的规模”，可以理解为当要解决一个规模为 n，对应 n+1 步操作步数的问题，所需要的时间为 T(n)。计算机科学家对这种算法分析技术进行了更为深远的思考。有限的操作次数对于 T(n)函数的影响，并不如某些占据主要地位的操作部分重要。换言之，当问题规模越来越大时，T(n)函数中的一部分几乎掩盖了其他部分对于函数的影响。最终，这种起主导作用的部分用来对函数进行比较。数量级函数用来描述当规模 n 增加时，T(n)函数中增长最快的部分。这种数量级函数一般被称为大“O”表示法，记作 O(f(n))。它提供了计算过程中实际步数的近似值。函数 f(n)是原始函数 T(n)中主导部分的简化表示。举个例子：T(n) = 1 + n。当 n 增大时,常数 1 对于最后的结果来说越来越不重要。如果我\n",
    "们需要 T(n)的近似值，我们可以忽略常数 1，直接认为 T(n)的运行时间就是 O(n)。值得明白的是，1对 T(n)固然重要，但是当 n 增加到很大时，忽略 1 得到的近似值同样精确。"
   ]
  },
  {
   "cell_type": "markdown",
   "metadata": {},
   "source": [
    "<center>表1. 常见函数的大“O”表示法</center>\n",
    "\n",
    "f(n)|函数名\n",
    "-|-\n",
    "1|常数函数\n",
    "log n|对数函数\n",
    "n|线性函数\n",
    "n log n|线性对数函数\n",
    "$$n^2$$|二次函数\n",
    "$$n^3$$|三次函数\n",
    "$$2^n$$|指数函数"
   ]
  },
  {
   "cell_type": "markdown",
   "metadata": {},
   "source": [
    "![常见大“O”函数的图像](pic/2.3.1.png)\n",
    "<center>图1. 常见大“O”函数的图像</center>"
   ]
  },
  {
   "cell_type": "markdown",
   "metadata": {},
   "source": [
    "注意到当 n 很小时，函数之间不易区分，很难说谁占主导。然而，当 n 增大时，就能观察到明显的区别，很容易进行比较。"
   ]
  }
 ],
 "metadata": {
  "kernelspec": {
   "display_name": "Python 3",
   "language": "python",
   "name": "python3"
  },
  "language_info": {
   "codemirror_mode": {
    "name": "ipython",
    "version": 3
   },
   "file_extension": ".py",
   "mimetype": "text/x-python",
   "name": "python",
   "nbconvert_exporter": "python",
   "pygments_lexer": "ipython3",
   "version": "3.6.5"
  }
 },
 "nbformat": 4,
 "nbformat_minor": 2
}
